{
  "nbformat": 4,
  "nbformat_minor": 0,
  "metadata": {
    "colab": {
      "name": "AI_07_장종현_Session1.ipynb",
      "provenance": [],
      "collapsed_sections": [],
      "mount_file_id": "1vlfI0QZWmBInp9AXdga9OOFm6bB8cynF",
      "authorship_tag": "ABX9TyMNbICVkandbVejwh+BhDIr",
      "include_colab_link": true
    },
    "kernelspec": {
      "name": "python3",
      "display_name": "Python 3"
    },
    "language_info": {
      "name": "python"
    }
  },
  "cells": [
    {
      "cell_type": "markdown",
      "metadata": {
        "id": "view-in-github",
        "colab_type": "text"
      },
      "source": [
        "<a href=\"https://colab.research.google.com/github/sympony/AI_Project01/blob/main/AI_07_%EC%9E%A5%EC%A2%85%ED%98%84_Session1.ipynb\" target=\"_parent\"><img src=\"https://colab.research.google.com/assets/colab-badge.svg\" alt=\"Open In Colab\"/></a>"
      ]
    },
    {
      "cell_type": "markdown",
      "metadata": {
        "id": "7zs-6JeX6zzt"
      },
      "source": [
        "##Data dictionary\n",
        "\n",
        "* Name : 게임의 이름\n",
        "* Platform : 게임이 지원되는 플랫폼의 이름\n",
        "* Year : 게임이 출시된 연도\n",
        "* Genre : 게임의 장르\n",
        "* Publisher : 게임을 제작한 회사명\n",
        "* NA_Sales : 북미지역의 출고량\n",
        "* EU_Sales : 유럽지역의 출고량\n",
        "* JP_Sales : 일본지역의 출고량\n",
        "* Other_Sales : 기타지역의 출고량"
      ]
    },
    {
      "cell_type": "markdown",
      "metadata": {
        "id": "nIbT1KdJ8X4M"
      },
      "source": [
        "##  Library & Korean Patch"
      ]
    },
    {
      "cell_type": "code",
      "metadata": {
        "id": "ZnX9eBja9Q9L",
        "colab": {
          "base_uri": "https://localhost:8080/"
        },
        "outputId": "7e1dd014-8ce7-440a-cc00-e01adeec0e98"
      },
      "source": [
        "!sudo apt-get install -y fonts-nanum\n",
        "!sudo fc-cache -fv\n",
        "!rm ~/.cache/matplotlib -rf"
      ],
      "execution_count": 1,
      "outputs": [
        {
          "output_type": "stream",
          "name": "stdout",
          "text": [
            "Reading package lists... Done\n",
            "Building dependency tree       \n",
            "Reading state information... Done\n",
            "fonts-nanum is already the newest version (20170925-1).\n",
            "0 upgraded, 0 newly installed, 0 to remove and 37 not upgraded.\n",
            "/usr/share/fonts: caching, new cache contents: 0 fonts, 1 dirs\n",
            "/usr/share/fonts/truetype: caching, new cache contents: 0 fonts, 3 dirs\n",
            "/usr/share/fonts/truetype/humor-sans: caching, new cache contents: 1 fonts, 0 dirs\n",
            "/usr/share/fonts/truetype/liberation: caching, new cache contents: 16 fonts, 0 dirs\n",
            "/usr/share/fonts/truetype/nanum: caching, new cache contents: 10 fonts, 0 dirs\n",
            "/usr/local/share/fonts: caching, new cache contents: 0 fonts, 0 dirs\n",
            "/root/.local/share/fonts: skipping, no such directory\n",
            "/root/.fonts: skipping, no such directory\n",
            "/var/cache/fontconfig: cleaning cache directory\n",
            "/root/.cache/fontconfig: not cleaning non-existent cache directory\n",
            "/root/.fontconfig: not cleaning non-existent cache directory\n",
            "fc-cache: succeeded\n"
          ]
        }
      ]
    },
    {
      "cell_type": "code",
      "metadata": {
        "id": "VQw-7v-29hu0"
      },
      "source": [
        "%matplotlib inline\n",
        "import pandas as pd\n",
        "import numpy as np\n",
        "import seaborn as sns\n",
        "from sklearn.preprocessing import StandardScaler\n",
        "from sklearn.decomposition import PCA\n",
        "\n",
        "import warnings\n",
        "\n",
        "warnings.filterwarnings(\"ignore\")\n",
        "\n",
        "import matplotlib.pyplot as plt\n",
        "import matplotlib as mpl\n",
        "\n",
        "mpl.rc(\"font\", family='AppleGothic')\n",
        "plt.rc('font', family='NanumBarunGothic')"
      ],
      "execution_count": 2,
      "outputs": []
    },
    {
      "cell_type": "markdown",
      "metadata": {
        "id": "sVjE9cpB4_rv"
      },
      "source": [
        "## Data preprocessing"
      ]
    },
    {
      "cell_type": "markdown",
      "metadata": {
        "id": "C4fywEXYAx8E"
      },
      "source": [
        "### Dataset 확인"
      ]
    },
    {
      "cell_type": "code",
      "metadata": {
        "id": "l65x4vtY48pF",
        "colab": {
          "base_uri": "https://localhost:8080/",
          "height": 204
        },
        "outputId": "0a2b95d4-61f3-47fb-bfd3-5afb03ba37c0"
      },
      "source": [
        "df = pd.read_csv('/content/drive/MyDrive/Project/Session1/vgames2.csv')\n",
        "df.head()"
      ],
      "execution_count": 3,
      "outputs": [
        {
          "output_type": "execute_result",
          "data": {
            "text/html": [
              "<div>\n",
              "<style scoped>\n",
              "    .dataframe tbody tr th:only-of-type {\n",
              "        vertical-align: middle;\n",
              "    }\n",
              "\n",
              "    .dataframe tbody tr th {\n",
              "        vertical-align: top;\n",
              "    }\n",
              "\n",
              "    .dataframe thead th {\n",
              "        text-align: right;\n",
              "    }\n",
              "</style>\n",
              "<table border=\"1\" class=\"dataframe\">\n",
              "  <thead>\n",
              "    <tr style=\"text-align: right;\">\n",
              "      <th></th>\n",
              "      <th>Unnamed: 0</th>\n",
              "      <th>Name</th>\n",
              "      <th>Platform</th>\n",
              "      <th>Year</th>\n",
              "      <th>Genre</th>\n",
              "      <th>Publisher</th>\n",
              "      <th>NA_Sales</th>\n",
              "      <th>EU_Sales</th>\n",
              "      <th>JP_Sales</th>\n",
              "      <th>Other_Sales</th>\n",
              "    </tr>\n",
              "  </thead>\n",
              "  <tbody>\n",
              "    <tr>\n",
              "      <th>0</th>\n",
              "      <td>1</td>\n",
              "      <td>Candace Kane's Candy Factory</td>\n",
              "      <td>DS</td>\n",
              "      <td>2008.0</td>\n",
              "      <td>Action</td>\n",
              "      <td>Destineer</td>\n",
              "      <td>0.04</td>\n",
              "      <td>0</td>\n",
              "      <td>0</td>\n",
              "      <td>0</td>\n",
              "    </tr>\n",
              "    <tr>\n",
              "      <th>1</th>\n",
              "      <td>2</td>\n",
              "      <td>The Munchables</td>\n",
              "      <td>Wii</td>\n",
              "      <td>2009.0</td>\n",
              "      <td>Action</td>\n",
              "      <td>Namco Bandai Games</td>\n",
              "      <td>0.17</td>\n",
              "      <td>0</td>\n",
              "      <td>0</td>\n",
              "      <td>0.01</td>\n",
              "    </tr>\n",
              "    <tr>\n",
              "      <th>2</th>\n",
              "      <td>3</td>\n",
              "      <td>Otome wa Oanesama Boku ni Koi Shiteru Portable</td>\n",
              "      <td>PSP</td>\n",
              "      <td>2010.0</td>\n",
              "      <td>Adventure</td>\n",
              "      <td>Alchemist</td>\n",
              "      <td>0</td>\n",
              "      <td>0</td>\n",
              "      <td>0.02</td>\n",
              "      <td>0</td>\n",
              "    </tr>\n",
              "    <tr>\n",
              "      <th>3</th>\n",
              "      <td>4</td>\n",
              "      <td>Deal or No Deal: Special Edition</td>\n",
              "      <td>DS</td>\n",
              "      <td>2010.0</td>\n",
              "      <td>Misc</td>\n",
              "      <td>Zoo Games</td>\n",
              "      <td>0.04</td>\n",
              "      <td>0</td>\n",
              "      <td>0</td>\n",
              "      <td>0</td>\n",
              "    </tr>\n",
              "    <tr>\n",
              "      <th>4</th>\n",
              "      <td>5</td>\n",
              "      <td>Ben 10 Ultimate Alien: Cosmic Destruction</td>\n",
              "      <td>PS3</td>\n",
              "      <td>2010.0</td>\n",
              "      <td>Platform</td>\n",
              "      <td>D3Publisher</td>\n",
              "      <td>0.12</td>\n",
              "      <td>0.09</td>\n",
              "      <td>0</td>\n",
              "      <td>0.04</td>\n",
              "    </tr>\n",
              "  </tbody>\n",
              "</table>\n",
              "</div>"
            ],
            "text/plain": [
              "   Unnamed: 0  ... Other_Sales\n",
              "0           1  ...           0\n",
              "1           2  ...        0.01\n",
              "2           3  ...           0\n",
              "3           4  ...           0\n",
              "4           5  ...        0.04\n",
              "\n",
              "[5 rows x 10 columns]"
            ]
          },
          "metadata": {},
          "execution_count": 3
        }
      ]
    },
    {
      "cell_type": "code",
      "metadata": {
        "id": "7yS3xhvm-v5b",
        "colab": {
          "base_uri": "https://localhost:8080/"
        },
        "outputId": "db1566d9-7d9d-454f-cabc-dfc44a780e63"
      },
      "source": [
        "df.shape"
      ],
      "execution_count": 4,
      "outputs": [
        {
          "output_type": "execute_result",
          "data": {
            "text/plain": [
              "(16598, 10)"
            ]
          },
          "metadata": {},
          "execution_count": 4
        }
      ]
    },
    {
      "cell_type": "markdown",
      "metadata": {
        "id": "Tc5_HP23sorD"
      },
      "source": [
        "### 결측치 확인 및 대체"
      ]
    },
    {
      "cell_type": "code",
      "metadata": {
        "id": "C1d-W6w8NTn2",
        "colab": {
          "base_uri": "https://localhost:8080/"
        },
        "outputId": "d8dd42ab-71b1-489e-84e6-ede081be92ec"
      },
      "source": [
        "# 결측치 확인\n",
        "df.isnull().sum()"
      ],
      "execution_count": 5,
      "outputs": [
        {
          "output_type": "execute_result",
          "data": {
            "text/plain": [
              "Unnamed: 0       0\n",
              "Name             0\n",
              "Platform         0\n",
              "Year           271\n",
              "Genre           50\n",
              "Publisher       58\n",
              "NA_Sales         0\n",
              "EU_Sales         0\n",
              "JP_Sales         0\n",
              "Other_Sales      0\n",
              "dtype: int64"
            ]
          },
          "metadata": {},
          "execution_count": 5
        }
      ]
    },
    {
      "cell_type": "code",
      "metadata": {
        "id": "hVzgGGUGr3R5"
      },
      "source": [
        "# 결측치 변경 전 Year의 값을 조정\n",
        "# 두 자리수의 Year를 네 자리수로 변경\n",
        "for i in range(0,len(df['Year'])):\n",
        "  if (df['Year'][i] >=0) & (df['Year'][i] <30):\n",
        "    df['Year'][i] = df['Year'][i] + 2000\n",
        "  elif (df['Year'][i] >50) & (df['Year'][i] <100):\n",
        "    df['Year'][i] = df['Year'][i] + 1900\n",
        "  else:\n",
        "    continue"
      ],
      "execution_count": 6,
      "outputs": []
    },
    {
      "cell_type": "code",
      "metadata": {
        "id": "GaZNPkQWoOt7"
      },
      "source": [
        "# Publisher 결측치 제거\n",
        "df = df.dropna(subset=['Publisher'])\n",
        "# Genre 결측치 최빈값으로 대체\n",
        "df['Genre'].fillna(df['Genre'].mode()[0], inplace = True)\n",
        "# Year 결측치 평균값으로 대체\n",
        "df['Year'].fillna(int(df['Year'].mean()), inplace=True)"
      ],
      "execution_count": 7,
      "outputs": []
    },
    {
      "cell_type": "code",
      "metadata": {
        "id": "3dwr_Uc-rQ8U",
        "colab": {
          "base_uri": "https://localhost:8080/"
        },
        "outputId": "3bfffca6-90c4-44db-d6da-ab4cf7bf09c1"
      },
      "source": [
        "df.isnull().sum()"
      ],
      "execution_count": 8,
      "outputs": [
        {
          "output_type": "execute_result",
          "data": {
            "text/plain": [
              "Unnamed: 0     0\n",
              "Name           0\n",
              "Platform       0\n",
              "Year           0\n",
              "Genre          0\n",
              "Publisher      0\n",
              "NA_Sales       0\n",
              "EU_Sales       0\n",
              "JP_Sales       0\n",
              "Other_Sales    0\n",
              "dtype: int64"
            ]
          },
          "metadata": {},
          "execution_count": 8
        }
      ]
    },
    {
      "cell_type": "markdown",
      "metadata": {
        "id": "VHRnXRjIs7tk"
      },
      "source": [
        "### Feature Engineering"
      ]
    },
    {
      "cell_type": "code",
      "metadata": {
        "id": "rbuUgJ0GrYZu"
      },
      "source": [
        "# 인덱스 초기화 및 Unnamed: 0 컬럼 제거\n",
        "df.reset_index(drop=True, inplace=True)\n",
        "df = df.loc[:, 'Name':]\n",
        "\n",
        "# Year int형으로 변환\n",
        "df['Year'] = df['Year'].astype(int)\n",
        "df"
      ],
      "execution_count": null,
      "outputs": []
    },
    {
      "cell_type": "markdown",
      "metadata": {
        "id": "1WLY5pWmbogE"
      },
      "source": [
        "* 자료형을 수치화"
      ]
    },
    {
      "cell_type": "code",
      "metadata": {
        "id": "cS0LEY3q6Gr7",
        "colab": {
          "base_uri": "https://localhost:8080/"
        },
        "outputId": "dc51e87f-df49-4428-b649-f33d23e3cc17"
      },
      "source": [
        "type(df.shape[0])"
      ],
      "execution_count": 10,
      "outputs": [
        {
          "output_type": "execute_result",
          "data": {
            "text/plain": [
              "int"
            ]
          },
          "metadata": {},
          "execution_count": 10
        }
      ]
    },
    {
      "cell_type": "code",
      "metadata": {
        "id": "GKSRPhmF-YXN",
        "colab": {
          "base_uri": "https://localhost:8080/",
          "height": 514
        },
        "outputId": "ac79a6e0-d134-4b78-9c94-576e8fce2e7d"
      },
      "source": [
        "df.head(15)"
      ],
      "execution_count": 11,
      "outputs": [
        {
          "output_type": "execute_result",
          "data": {
            "text/html": [
              "<div>\n",
              "<style scoped>\n",
              "    .dataframe tbody tr th:only-of-type {\n",
              "        vertical-align: middle;\n",
              "    }\n",
              "\n",
              "    .dataframe tbody tr th {\n",
              "        vertical-align: top;\n",
              "    }\n",
              "\n",
              "    .dataframe thead th {\n",
              "        text-align: right;\n",
              "    }\n",
              "</style>\n",
              "<table border=\"1\" class=\"dataframe\">\n",
              "  <thead>\n",
              "    <tr style=\"text-align: right;\">\n",
              "      <th></th>\n",
              "      <th>Name</th>\n",
              "      <th>Platform</th>\n",
              "      <th>Year</th>\n",
              "      <th>Genre</th>\n",
              "      <th>Publisher</th>\n",
              "      <th>NA_Sales</th>\n",
              "      <th>EU_Sales</th>\n",
              "      <th>JP_Sales</th>\n",
              "      <th>Other_Sales</th>\n",
              "    </tr>\n",
              "  </thead>\n",
              "  <tbody>\n",
              "    <tr>\n",
              "      <th>0</th>\n",
              "      <td>Candace Kane's Candy Factory</td>\n",
              "      <td>DS</td>\n",
              "      <td>2008</td>\n",
              "      <td>Action</td>\n",
              "      <td>Destineer</td>\n",
              "      <td>0.04</td>\n",
              "      <td>0</td>\n",
              "      <td>0</td>\n",
              "      <td>0</td>\n",
              "    </tr>\n",
              "    <tr>\n",
              "      <th>1</th>\n",
              "      <td>The Munchables</td>\n",
              "      <td>Wii</td>\n",
              "      <td>2009</td>\n",
              "      <td>Action</td>\n",
              "      <td>Namco Bandai Games</td>\n",
              "      <td>0.17</td>\n",
              "      <td>0</td>\n",
              "      <td>0</td>\n",
              "      <td>0.01</td>\n",
              "    </tr>\n",
              "    <tr>\n",
              "      <th>2</th>\n",
              "      <td>Otome wa Oanesama Boku ni Koi Shiteru Portable</td>\n",
              "      <td>PSP</td>\n",
              "      <td>2010</td>\n",
              "      <td>Adventure</td>\n",
              "      <td>Alchemist</td>\n",
              "      <td>0</td>\n",
              "      <td>0</td>\n",
              "      <td>0.02</td>\n",
              "      <td>0</td>\n",
              "    </tr>\n",
              "    <tr>\n",
              "      <th>3</th>\n",
              "      <td>Deal or No Deal: Special Edition</td>\n",
              "      <td>DS</td>\n",
              "      <td>2010</td>\n",
              "      <td>Misc</td>\n",
              "      <td>Zoo Games</td>\n",
              "      <td>0.04</td>\n",
              "      <td>0</td>\n",
              "      <td>0</td>\n",
              "      <td>0</td>\n",
              "    </tr>\n",
              "    <tr>\n",
              "      <th>4</th>\n",
              "      <td>Ben 10 Ultimate Alien: Cosmic Destruction</td>\n",
              "      <td>PS3</td>\n",
              "      <td>2010</td>\n",
              "      <td>Platform</td>\n",
              "      <td>D3Publisher</td>\n",
              "      <td>0.12</td>\n",
              "      <td>0.09</td>\n",
              "      <td>0</td>\n",
              "      <td>0.04</td>\n",
              "    </tr>\n",
              "    <tr>\n",
              "      <th>5</th>\n",
              "      <td>Power Pro Kun Pocket 8</td>\n",
              "      <td>DS</td>\n",
              "      <td>2005</td>\n",
              "      <td>Sports</td>\n",
              "      <td>Konami Digital Entertainment</td>\n",
              "      <td>0</td>\n",
              "      <td>0</td>\n",
              "      <td>0.14</td>\n",
              "      <td>0</td>\n",
              "    </tr>\n",
              "    <tr>\n",
              "      <th>6</th>\n",
              "      <td>JASF: Jane's Advanced Strike Fighters</td>\n",
              "      <td>PC</td>\n",
              "      <td>2011</td>\n",
              "      <td>Simulation</td>\n",
              "      <td>Deep Silver</td>\n",
              "      <td>0.02</td>\n",
              "      <td>0.01</td>\n",
              "      <td>0</td>\n",
              "      <td>0</td>\n",
              "    </tr>\n",
              "    <tr>\n",
              "      <th>7</th>\n",
              "      <td>Samurai Warriors: State of War</td>\n",
              "      <td>PSP</td>\n",
              "      <td>2005</td>\n",
              "      <td>Action</td>\n",
              "      <td>Tecmo Koei</td>\n",
              "      <td>0.07</td>\n",
              "      <td>0</td>\n",
              "      <td>0.11</td>\n",
              "      <td>0.01</td>\n",
              "    </tr>\n",
              "    <tr>\n",
              "      <th>8</th>\n",
              "      <td>Imabikisou</td>\n",
              "      <td>PS3</td>\n",
              "      <td>2007</td>\n",
              "      <td>Adventure</td>\n",
              "      <td>Sega</td>\n",
              "      <td>0</td>\n",
              "      <td>0</td>\n",
              "      <td>0.04</td>\n",
              "      <td>0</td>\n",
              "    </tr>\n",
              "    <tr>\n",
              "      <th>9</th>\n",
              "      <td>The Penguins of Madagascar: Dr. Blowhole Retur...</td>\n",
              "      <td>PS3</td>\n",
              "      <td>2011</td>\n",
              "      <td>Action</td>\n",
              "      <td>THQ</td>\n",
              "      <td>0.04</td>\n",
              "      <td>0.03</td>\n",
              "      <td>0</td>\n",
              "      <td>0.01</td>\n",
              "    </tr>\n",
              "    <tr>\n",
              "      <th>10</th>\n",
              "      <td>Ford Racing</td>\n",
              "      <td>PS</td>\n",
              "      <td>2001</td>\n",
              "      <td>Racing</td>\n",
              "      <td>Empire Interactive</td>\n",
              "      <td>480K</td>\n",
              "      <td>0.33M</td>\n",
              "      <td>0K</td>\n",
              "      <td>0.06</td>\n",
              "    </tr>\n",
              "    <tr>\n",
              "      <th>11</th>\n",
              "      <td>Harvest Moon: More Friends of Mineral Town</td>\n",
              "      <td>GBA</td>\n",
              "      <td>2003</td>\n",
              "      <td>Simulation</td>\n",
              "      <td>Ubisoft</td>\n",
              "      <td>0.14</td>\n",
              "      <td>0.05</td>\n",
              "      <td>0</td>\n",
              "      <td>0</td>\n",
              "    </tr>\n",
              "    <tr>\n",
              "      <th>12</th>\n",
              "      <td>Mount &amp; Blade</td>\n",
              "      <td>PC</td>\n",
              "      <td>2008</td>\n",
              "      <td>Role-Playing</td>\n",
              "      <td>Paradox Interactive</td>\n",
              "      <td>0</td>\n",
              "      <td>0.02</td>\n",
              "      <td>0</td>\n",
              "      <td>0</td>\n",
              "    </tr>\n",
              "    <tr>\n",
              "      <th>13</th>\n",
              "      <td>The Professor's Brain Trainer: Logic</td>\n",
              "      <td>DS</td>\n",
              "      <td>2005</td>\n",
              "      <td>Puzzle</td>\n",
              "      <td>505 Games</td>\n",
              "      <td>0.02</td>\n",
              "      <td>0</td>\n",
              "      <td>0</td>\n",
              "      <td>0</td>\n",
              "    </tr>\n",
              "    <tr>\n",
              "      <th>14</th>\n",
              "      <td>Zoids Dash</td>\n",
              "      <td>DS</td>\n",
              "      <td>2006</td>\n",
              "      <td>Role-Playing</td>\n",
              "      <td>Tomy Corporation</td>\n",
              "      <td>0</td>\n",
              "      <td>0</td>\n",
              "      <td>0.02</td>\n",
              "      <td>0</td>\n",
              "    </tr>\n",
              "  </tbody>\n",
              "</table>\n",
              "</div>"
            ],
            "text/plain": [
              "                                                 Name  ... Other_Sales\n",
              "0                        Candace Kane's Candy Factory  ...           0\n",
              "1                                      The Munchables  ...        0.01\n",
              "2      Otome wa Oanesama Boku ni Koi Shiteru Portable  ...           0\n",
              "3                    Deal or No Deal: Special Edition  ...           0\n",
              "4           Ben 10 Ultimate Alien: Cosmic Destruction  ...        0.04\n",
              "5                              Power Pro Kun Pocket 8  ...           0\n",
              "6               JASF: Jane's Advanced Strike Fighters  ...           0\n",
              "7                      Samurai Warriors: State of War  ...        0.01\n",
              "8                                          Imabikisou  ...           0\n",
              "9   The Penguins of Madagascar: Dr. Blowhole Retur...  ...        0.01\n",
              "10                                        Ford Racing  ...        0.06\n",
              "11         Harvest Moon: More Friends of Mineral Town  ...           0\n",
              "12                                      Mount & Blade  ...           0\n",
              "13               The Professor's Brain Trainer: Logic  ...           0\n",
              "14                                         Zoids Dash  ...           0\n",
              "\n",
              "[15 rows x 9 columns]"
            ]
          },
          "metadata": {},
          "execution_count": 11
        }
      ]
    },
    {
      "cell_type": "code",
      "metadata": {
        "id": "5Smk52SWuIHA"
      },
      "source": [
        "df['NA_Sales'] = df['NA_Sales'].replace({'K': '*1e3', 'M': '*1e6'}, regex=True).map(pd.eval).astype(float)\n",
        "df['EU_Sales'] = df['EU_Sales'].replace({'K': '*1e3', 'M': '*1e6'}, regex=True).map(pd.eval).astype(float)\n",
        "df['JP_Sales'] = df['JP_Sales'].replace({'K': '*1e3', 'M': '*1e6'}, regex=True).map(pd.eval).astype(float)\n",
        "df['Other_Sales'] = df['Other_Sales'].replace({'K': '*1e3', 'M': '*1e6'}, regex=True).map(pd.eval).astype(float)"
      ],
      "execution_count": 12,
      "outputs": []
    },
    {
      "cell_type": "code",
      "metadata": {
        "id": "VTf6p7MkDfLI"
      },
      "source": [
        "# 전체 출고량 컬럼 생성\n",
        "df['Total_Sales'] = df['NA_Sales'] + df['EU_Sales'] + df['JP_Sales'] + df['Other_Sales']"
      ],
      "execution_count": 13,
      "outputs": []
    },
    {
      "cell_type": "code",
      "metadata": {
        "id": "W59y7D7-7Och",
        "colab": {
          "base_uri": "https://localhost:8080/",
          "height": 514
        },
        "outputId": "7a808b69-9d1e-4203-cfef-971629a9ec98"
      },
      "source": [
        "df.head(15)"
      ],
      "execution_count": 14,
      "outputs": [
        {
          "output_type": "execute_result",
          "data": {
            "text/html": [
              "<div>\n",
              "<style scoped>\n",
              "    .dataframe tbody tr th:only-of-type {\n",
              "        vertical-align: middle;\n",
              "    }\n",
              "\n",
              "    .dataframe tbody tr th {\n",
              "        vertical-align: top;\n",
              "    }\n",
              "\n",
              "    .dataframe thead th {\n",
              "        text-align: right;\n",
              "    }\n",
              "</style>\n",
              "<table border=\"1\" class=\"dataframe\">\n",
              "  <thead>\n",
              "    <tr style=\"text-align: right;\">\n",
              "      <th></th>\n",
              "      <th>Name</th>\n",
              "      <th>Platform</th>\n",
              "      <th>Year</th>\n",
              "      <th>Genre</th>\n",
              "      <th>Publisher</th>\n",
              "      <th>NA_Sales</th>\n",
              "      <th>EU_Sales</th>\n",
              "      <th>JP_Sales</th>\n",
              "      <th>Other_Sales</th>\n",
              "      <th>Total_Sales</th>\n",
              "    </tr>\n",
              "  </thead>\n",
              "  <tbody>\n",
              "    <tr>\n",
              "      <th>0</th>\n",
              "      <td>Candace Kane's Candy Factory</td>\n",
              "      <td>DS</td>\n",
              "      <td>2008</td>\n",
              "      <td>Action</td>\n",
              "      <td>Destineer</td>\n",
              "      <td>0.04</td>\n",
              "      <td>0.00</td>\n",
              "      <td>0.00</td>\n",
              "      <td>0.00</td>\n",
              "      <td>0.04</td>\n",
              "    </tr>\n",
              "    <tr>\n",
              "      <th>1</th>\n",
              "      <td>The Munchables</td>\n",
              "      <td>Wii</td>\n",
              "      <td>2009</td>\n",
              "      <td>Action</td>\n",
              "      <td>Namco Bandai Games</td>\n",
              "      <td>0.17</td>\n",
              "      <td>0.00</td>\n",
              "      <td>0.00</td>\n",
              "      <td>0.01</td>\n",
              "      <td>0.18</td>\n",
              "    </tr>\n",
              "    <tr>\n",
              "      <th>2</th>\n",
              "      <td>Otome wa Oanesama Boku ni Koi Shiteru Portable</td>\n",
              "      <td>PSP</td>\n",
              "      <td>2010</td>\n",
              "      <td>Adventure</td>\n",
              "      <td>Alchemist</td>\n",
              "      <td>0.00</td>\n",
              "      <td>0.00</td>\n",
              "      <td>0.02</td>\n",
              "      <td>0.00</td>\n",
              "      <td>0.02</td>\n",
              "    </tr>\n",
              "    <tr>\n",
              "      <th>3</th>\n",
              "      <td>Deal or No Deal: Special Edition</td>\n",
              "      <td>DS</td>\n",
              "      <td>2010</td>\n",
              "      <td>Misc</td>\n",
              "      <td>Zoo Games</td>\n",
              "      <td>0.04</td>\n",
              "      <td>0.00</td>\n",
              "      <td>0.00</td>\n",
              "      <td>0.00</td>\n",
              "      <td>0.04</td>\n",
              "    </tr>\n",
              "    <tr>\n",
              "      <th>4</th>\n",
              "      <td>Ben 10 Ultimate Alien: Cosmic Destruction</td>\n",
              "      <td>PS3</td>\n",
              "      <td>2010</td>\n",
              "      <td>Platform</td>\n",
              "      <td>D3Publisher</td>\n",
              "      <td>0.12</td>\n",
              "      <td>0.09</td>\n",
              "      <td>0.00</td>\n",
              "      <td>0.04</td>\n",
              "      <td>0.25</td>\n",
              "    </tr>\n",
              "    <tr>\n",
              "      <th>5</th>\n",
              "      <td>Power Pro Kun Pocket 8</td>\n",
              "      <td>DS</td>\n",
              "      <td>2005</td>\n",
              "      <td>Sports</td>\n",
              "      <td>Konami Digital Entertainment</td>\n",
              "      <td>0.00</td>\n",
              "      <td>0.00</td>\n",
              "      <td>0.14</td>\n",
              "      <td>0.00</td>\n",
              "      <td>0.14</td>\n",
              "    </tr>\n",
              "    <tr>\n",
              "      <th>6</th>\n",
              "      <td>JASF: Jane's Advanced Strike Fighters</td>\n",
              "      <td>PC</td>\n",
              "      <td>2011</td>\n",
              "      <td>Simulation</td>\n",
              "      <td>Deep Silver</td>\n",
              "      <td>0.02</td>\n",
              "      <td>0.01</td>\n",
              "      <td>0.00</td>\n",
              "      <td>0.00</td>\n",
              "      <td>0.03</td>\n",
              "    </tr>\n",
              "    <tr>\n",
              "      <th>7</th>\n",
              "      <td>Samurai Warriors: State of War</td>\n",
              "      <td>PSP</td>\n",
              "      <td>2005</td>\n",
              "      <td>Action</td>\n",
              "      <td>Tecmo Koei</td>\n",
              "      <td>0.07</td>\n",
              "      <td>0.00</td>\n",
              "      <td>0.11</td>\n",
              "      <td>0.01</td>\n",
              "      <td>0.19</td>\n",
              "    </tr>\n",
              "    <tr>\n",
              "      <th>8</th>\n",
              "      <td>Imabikisou</td>\n",
              "      <td>PS3</td>\n",
              "      <td>2007</td>\n",
              "      <td>Adventure</td>\n",
              "      <td>Sega</td>\n",
              "      <td>0.00</td>\n",
              "      <td>0.00</td>\n",
              "      <td>0.04</td>\n",
              "      <td>0.00</td>\n",
              "      <td>0.04</td>\n",
              "    </tr>\n",
              "    <tr>\n",
              "      <th>9</th>\n",
              "      <td>The Penguins of Madagascar: Dr. Blowhole Retur...</td>\n",
              "      <td>PS3</td>\n",
              "      <td>2011</td>\n",
              "      <td>Action</td>\n",
              "      <td>THQ</td>\n",
              "      <td>0.04</td>\n",
              "      <td>0.03</td>\n",
              "      <td>0.00</td>\n",
              "      <td>0.01</td>\n",
              "      <td>0.08</td>\n",
              "    </tr>\n",
              "    <tr>\n",
              "      <th>10</th>\n",
              "      <td>Ford Racing</td>\n",
              "      <td>PS</td>\n",
              "      <td>2001</td>\n",
              "      <td>Racing</td>\n",
              "      <td>Empire Interactive</td>\n",
              "      <td>480000.00</td>\n",
              "      <td>330000.00</td>\n",
              "      <td>0.00</td>\n",
              "      <td>0.06</td>\n",
              "      <td>810000.06</td>\n",
              "    </tr>\n",
              "    <tr>\n",
              "      <th>11</th>\n",
              "      <td>Harvest Moon: More Friends of Mineral Town</td>\n",
              "      <td>GBA</td>\n",
              "      <td>2003</td>\n",
              "      <td>Simulation</td>\n",
              "      <td>Ubisoft</td>\n",
              "      <td>0.14</td>\n",
              "      <td>0.05</td>\n",
              "      <td>0.00</td>\n",
              "      <td>0.00</td>\n",
              "      <td>0.19</td>\n",
              "    </tr>\n",
              "    <tr>\n",
              "      <th>12</th>\n",
              "      <td>Mount &amp; Blade</td>\n",
              "      <td>PC</td>\n",
              "      <td>2008</td>\n",
              "      <td>Role-Playing</td>\n",
              "      <td>Paradox Interactive</td>\n",
              "      <td>0.00</td>\n",
              "      <td>0.02</td>\n",
              "      <td>0.00</td>\n",
              "      <td>0.00</td>\n",
              "      <td>0.02</td>\n",
              "    </tr>\n",
              "    <tr>\n",
              "      <th>13</th>\n",
              "      <td>The Professor's Brain Trainer: Logic</td>\n",
              "      <td>DS</td>\n",
              "      <td>2005</td>\n",
              "      <td>Puzzle</td>\n",
              "      <td>505 Games</td>\n",
              "      <td>0.02</td>\n",
              "      <td>0.00</td>\n",
              "      <td>0.00</td>\n",
              "      <td>0.00</td>\n",
              "      <td>0.02</td>\n",
              "    </tr>\n",
              "    <tr>\n",
              "      <th>14</th>\n",
              "      <td>Zoids Dash</td>\n",
              "      <td>DS</td>\n",
              "      <td>2006</td>\n",
              "      <td>Role-Playing</td>\n",
              "      <td>Tomy Corporation</td>\n",
              "      <td>0.00</td>\n",
              "      <td>0.00</td>\n",
              "      <td>0.02</td>\n",
              "      <td>0.00</td>\n",
              "      <td>0.02</td>\n",
              "    </tr>\n",
              "  </tbody>\n",
              "</table>\n",
              "</div>"
            ],
            "text/plain": [
              "                                                 Name  ... Total_Sales\n",
              "0                        Candace Kane's Candy Factory  ...        0.04\n",
              "1                                      The Munchables  ...        0.18\n",
              "2      Otome wa Oanesama Boku ni Koi Shiteru Portable  ...        0.02\n",
              "3                    Deal or No Deal: Special Edition  ...        0.04\n",
              "4           Ben 10 Ultimate Alien: Cosmic Destruction  ...        0.25\n",
              "5                              Power Pro Kun Pocket 8  ...        0.14\n",
              "6               JASF: Jane's Advanced Strike Fighters  ...        0.03\n",
              "7                      Samurai Warriors: State of War  ...        0.19\n",
              "8                                          Imabikisou  ...        0.04\n",
              "9   The Penguins of Madagascar: Dr. Blowhole Retur...  ...        0.08\n",
              "10                                        Ford Racing  ...   810000.06\n",
              "11         Harvest Moon: More Friends of Mineral Town  ...        0.19\n",
              "12                                      Mount & Blade  ...        0.02\n",
              "13               The Professor's Brain Trainer: Logic  ...        0.02\n",
              "14                                         Zoids Dash  ...        0.02\n",
              "\n",
              "[15 rows x 10 columns]"
            ]
          },
          "metadata": {},
          "execution_count": 14
        }
      ]
    },
    {
      "cell_type": "code",
      "metadata": {
        "colab": {
          "base_uri": "https://localhost:8080/",
          "height": 419
        },
        "id": "SKm2ZZsZKpsH",
        "outputId": "bfa17102-a982-405f-9cf6-b4a87dac3cbe"
      },
      "source": [
        "df.sort_values('Year')"
      ],
      "execution_count": 41,
      "outputs": [
        {
          "output_type": "execute_result",
          "data": {
            "text/html": [
              "<div>\n",
              "<style scoped>\n",
              "    .dataframe tbody tr th:only-of-type {\n",
              "        vertical-align: middle;\n",
              "    }\n",
              "\n",
              "    .dataframe tbody tr th {\n",
              "        vertical-align: top;\n",
              "    }\n",
              "\n",
              "    .dataframe thead th {\n",
              "        text-align: right;\n",
              "    }\n",
              "</style>\n",
              "<table border=\"1\" class=\"dataframe\">\n",
              "  <thead>\n",
              "    <tr style=\"text-align: right;\">\n",
              "      <th></th>\n",
              "      <th>Name</th>\n",
              "      <th>Platform</th>\n",
              "      <th>Year</th>\n",
              "      <th>Genre</th>\n",
              "      <th>Publisher</th>\n",
              "      <th>NA_Sales</th>\n",
              "      <th>EU_Sales</th>\n",
              "      <th>JP_Sales</th>\n",
              "      <th>Other_Sales</th>\n",
              "      <th>Total_Sales</th>\n",
              "    </tr>\n",
              "  </thead>\n",
              "  <tbody>\n",
              "    <tr>\n",
              "      <th>5704</th>\n",
              "      <td>Asteroids</td>\n",
              "      <td>2600</td>\n",
              "      <td>1980</td>\n",
              "      <td>Shooter</td>\n",
              "      <td>Atari</td>\n",
              "      <td>4.00</td>\n",
              "      <td>0.26</td>\n",
              "      <td>0.00</td>\n",
              "      <td>0.05</td>\n",
              "      <td>4.31</td>\n",
              "    </tr>\n",
              "    <tr>\n",
              "      <th>10090</th>\n",
              "      <td>Defender</td>\n",
              "      <td>2600</td>\n",
              "      <td>1980</td>\n",
              "      <td>Misc</td>\n",
              "      <td>Atari</td>\n",
              "      <td>0.99</td>\n",
              "      <td>0.05</td>\n",
              "      <td>0.00</td>\n",
              "      <td>0.01</td>\n",
              "      <td>1.05</td>\n",
              "    </tr>\n",
              "    <tr>\n",
              "      <th>9197</th>\n",
              "      <td>Bridge</td>\n",
              "      <td>2600</td>\n",
              "      <td>1980</td>\n",
              "      <td>Misc</td>\n",
              "      <td>Activision</td>\n",
              "      <td>0.25</td>\n",
              "      <td>0.02</td>\n",
              "      <td>0.00</td>\n",
              "      <td>0.00</td>\n",
              "      <td>0.27</td>\n",
              "    </tr>\n",
              "    <tr>\n",
              "      <th>14960</th>\n",
              "      <td>Missile Command</td>\n",
              "      <td>2600</td>\n",
              "      <td>1980</td>\n",
              "      <td>Shooter</td>\n",
              "      <td>Atari</td>\n",
              "      <td>2.56</td>\n",
              "      <td>0.17</td>\n",
              "      <td>0.00</td>\n",
              "      <td>0.03</td>\n",
              "      <td>2.76</td>\n",
              "    </tr>\n",
              "    <tr>\n",
              "      <th>5919</th>\n",
              "      <td>Kaboom!</td>\n",
              "      <td>2600</td>\n",
              "      <td>1980</td>\n",
              "      <td>Misc</td>\n",
              "      <td>Activision</td>\n",
              "      <td>1.07</td>\n",
              "      <td>0.07</td>\n",
              "      <td>0.00</td>\n",
              "      <td>0.01</td>\n",
              "      <td>1.15</td>\n",
              "    </tr>\n",
              "    <tr>\n",
              "      <th>...</th>\n",
              "      <td>...</td>\n",
              "      <td>...</td>\n",
              "      <td>...</td>\n",
              "      <td>...</td>\n",
              "      <td>...</td>\n",
              "      <td>...</td>\n",
              "      <td>...</td>\n",
              "      <td>...</td>\n",
              "      <td>...</td>\n",
              "      <td>...</td>\n",
              "    </tr>\n",
              "    <tr>\n",
              "      <th>10316</th>\n",
              "      <td>Coven and Labyrinth of Refrain</td>\n",
              "      <td>PSV</td>\n",
              "      <td>2016</td>\n",
              "      <td>Action</td>\n",
              "      <td>Nippon Ichi Software</td>\n",
              "      <td>0.00</td>\n",
              "      <td>0.00</td>\n",
              "      <td>0.01</td>\n",
              "      <td>0.00</td>\n",
              "      <td>0.01</td>\n",
              "    </tr>\n",
              "    <tr>\n",
              "      <th>10076</th>\n",
              "      <td>Phantasy Star Online 2 Episode 4: Deluxe Package</td>\n",
              "      <td>PS4</td>\n",
              "      <td>2017</td>\n",
              "      <td>Role-Playing</td>\n",
              "      <td>Sega</td>\n",
              "      <td>0.00</td>\n",
              "      <td>0.00</td>\n",
              "      <td>0.03</td>\n",
              "      <td>0.00</td>\n",
              "      <td>0.03</td>\n",
              "    </tr>\n",
              "    <tr>\n",
              "      <th>5292</th>\n",
              "      <td>Brothers Conflict: Precious Baby</td>\n",
              "      <td>PSV</td>\n",
              "      <td>2017</td>\n",
              "      <td>Action</td>\n",
              "      <td>Idea Factory</td>\n",
              "      <td>0.00</td>\n",
              "      <td>0.00</td>\n",
              "      <td>0.01</td>\n",
              "      <td>0.00</td>\n",
              "      <td>0.01</td>\n",
              "    </tr>\n",
              "    <tr>\n",
              "      <th>15180</th>\n",
              "      <td>Phantasy Star Online 2 Episode 4: Deluxe Package</td>\n",
              "      <td>PSV</td>\n",
              "      <td>2017</td>\n",
              "      <td>Role-Playing</td>\n",
              "      <td>Sega</td>\n",
              "      <td>0.00</td>\n",
              "      <td>0.00</td>\n",
              "      <td>0.01</td>\n",
              "      <td>0.00</td>\n",
              "      <td>0.01</td>\n",
              "    </tr>\n",
              "    <tr>\n",
              "      <th>6885</th>\n",
              "      <td>Imagine: Makeup Artist</td>\n",
              "      <td>DS</td>\n",
              "      <td>2020</td>\n",
              "      <td>Simulation</td>\n",
              "      <td>Ubisoft</td>\n",
              "      <td>0.27</td>\n",
              "      <td>0.00</td>\n",
              "      <td>0.00</td>\n",
              "      <td>0.02</td>\n",
              "      <td>0.29</td>\n",
              "    </tr>\n",
              "  </tbody>\n",
              "</table>\n",
              "<p>16540 rows × 10 columns</p>\n",
              "</div>"
            ],
            "text/plain": [
              "                                                   Name  ... Total_Sales\n",
              "5704                                          Asteroids  ...        4.31\n",
              "10090                                          Defender  ...        1.05\n",
              "9197                                             Bridge  ...        0.27\n",
              "14960                                   Missile Command  ...        2.76\n",
              "5919                                            Kaboom!  ...        1.15\n",
              "...                                                 ...  ...         ...\n",
              "10316                    Coven and Labyrinth of Refrain  ...        0.01\n",
              "10076  Phantasy Star Online 2 Episode 4: Deluxe Package  ...        0.03\n",
              "5292                   Brothers Conflict: Precious Baby  ...        0.01\n",
              "15180  Phantasy Star Online 2 Episode 4: Deluxe Package  ...        0.01\n",
              "6885                             Imagine: Makeup Artist  ...        0.29\n",
              "\n",
              "[16540 rows x 10 columns]"
            ]
          },
          "metadata": {},
          "execution_count": 41
        }
      ]
    },
    {
      "cell_type": "markdown",
      "metadata": {
        "id": "X2oEG14nl9Kp"
      },
      "source": [
        "##Exploratory Data Analysis(EDA)"
      ]
    },
    {
      "cell_type": "markdown",
      "metadata": {
        "id": "wjLsGpGj2Yz2"
      },
      "source": [
        "### 지역별 선호하는 게임장르"
      ]
    },
    {
      "cell_type": "code",
      "metadata": {
        "colab": {
          "base_uri": "https://localhost:8080/",
          "height": 746
        },
        "id": "Cih9-n-NH1cr",
        "outputId": "cc69f6fe-6ffc-4af3-f24c-37a7d5fca6a3"
      },
      "source": [
        "fig, ax = plt.subplots(2, 2, figsize=(24, 12))\n",
        "sns.barplot(data=df, x='Genre', y='NA_Sales', ax=ax[0, 0])\n",
        "ax[0, 0].set_title('NA 지역 트렌드')\n",
        "sns.barplot(data=df, x='Genre', y='EU_Sales', ax=ax[0, 1])\n",
        "ax[0, 1].set_title('EU 지역 트렌드')\n",
        "sns.barplot(data=df, x='Genre', y='JP_Sales', ax=ax[1, 0])\n",
        "ax[1, 0].set_title('JP 지역 트렌드')\n",
        "sns.barplot(data=df, x='Genre', y='Other_Sales', ax=ax[1, 1])\n",
        "ax[1, 1].set_title('이외의 모든지역 장르 트렌드')"
      ],
      "execution_count": 15,
      "outputs": [
        {
          "output_type": "execute_result",
          "data": {
            "text/plain": [
              "Text(0.5, 1.0, '이외의 모든지역 장르 트렌드')"
            ]
          },
          "metadata": {},
          "execution_count": 15
        },
        {
          "output_type": "display_data",
          "data": {
            "image/png": "[encoded data removed]",
            "text/plain": [
              "<Figure size 1728x864 with 4 Axes>"
            ]
          },
          "metadata": {
            "needs_background": "light"
          }
        }
      ]
    },
    {
      "cell_type": "code",
      "metadata": {
        "colab": {
          "base_uri": "https://localhost:8080/",
          "height": 529
        },
        "id": "Z8xyE52XDvos",
        "outputId": "a17c3f32-d23c-44c5-865a-6dfe94d34cf6"
      },
      "source": [
        "plt.figure(figsize=(12, 8))\n",
        "sns.barplot(data=df, x='Genre', y='Total_Sales')\n",
        "plt.title('모든 지역의 장르 트렌드')"
      ],
      "execution_count": 43,
      "outputs": [
        {
          "output_type": "execute_result",
          "data": {
            "text/plain": [
              "Text(0.5, 1.0, '모든 지역의 장르 트렌드')"
            ]
          },
          "metadata": {},
          "execution_count": 43
        },
        {
          "output_type": "display_data",
          "data": {
            "image/png": "[encoded data removed]",
            "text/plain": [
              "<Figure size 864x576 with 1 Axes>"
            ]
          },
          "metadata": {
            "needs_background": "light"
          }
        }
      ]
    },
    {
      "cell_type": "markdown",
      "metadata": {
        "id": "zNE5rTJatm14"
      },
      "source": [
        " * 각 지역별로 선호하는 장르는 각각 다르다는 것을 알 수 있다.   \n",
        " NA지역은 장르에 대한 편차가 생각보다 크지 않으며, 그중에서는 액션 및 레이싱, 슈팅 게임 장르를 선호한다.   \n",
        " EU지역은 플랫폼 게임을 선호하는 경향이 크며, JP지역은 롤플레잉 게임을 선호하는 비중이 높다.   \n",
        " 이외의 모든 지역에서는 롤플레잉 장르를 선호하는 경향이 보인다.\n",
        " * 전체적으로 봤을때는 플랫폼과 슈팅, 액션, 레이싱, 롤플레잉 장르를 선호하는 경향을 보여준다."
      ]
    },
    {
      "cell_type": "markdown",
      "metadata": {
        "id": "rwxirXjGIkpc"
      },
      "source": [
        "### 연도별 게임 트렌드\n",
        "\n",
        "**1. ~ 1990년도**"
      ]
    },
    {
      "cell_type": "code",
      "metadata": {
        "colab": {
          "base_uri": "https://localhost:8080/",
          "height": 419
        },
        "id": "DR_UBAc0_h8k",
        "outputId": "4f819c34-41ee-449b-ee50-f00041800343"
      },
      "source": [
        "df_year_90 = df[df['Year'] <= 1990]\n",
        "df_year_90"
      ],
      "execution_count": 17,
      "outputs": [
        {
          "output_type": "execute_result",
          "data": {
            "text/html": [
              "<div>\n",
              "<style scoped>\n",
              "    .dataframe tbody tr th:only-of-type {\n",
              "        vertical-align: middle;\n",
              "    }\n",
              "\n",
              "    .dataframe tbody tr th {\n",
              "        vertical-align: top;\n",
              "    }\n",
              "\n",
              "    .dataframe thead th {\n",
              "        text-align: right;\n",
              "    }\n",
              "</style>\n",
              "<table border=\"1\" class=\"dataframe\">\n",
              "  <thead>\n",
              "    <tr style=\"text-align: right;\">\n",
              "      <th></th>\n",
              "      <th>Name</th>\n",
              "      <th>Platform</th>\n",
              "      <th>Year</th>\n",
              "      <th>Genre</th>\n",
              "      <th>Publisher</th>\n",
              "      <th>NA_Sales</th>\n",
              "      <th>EU_Sales</th>\n",
              "      <th>JP_Sales</th>\n",
              "      <th>Other_Sales</th>\n",
              "      <th>Total_Sales</th>\n",
              "    </tr>\n",
              "  </thead>\n",
              "  <tbody>\n",
              "    <tr>\n",
              "      <th>37</th>\n",
              "      <td>Beamrider</td>\n",
              "      <td>2600</td>\n",
              "      <td>1984</td>\n",
              "      <td>Racing</td>\n",
              "      <td>Activision</td>\n",
              "      <td>0.26</td>\n",
              "      <td>0.01</td>\n",
              "      <td>0.00</td>\n",
              "      <td>0.00</td>\n",
              "      <td>0.27</td>\n",
              "    </tr>\n",
              "    <tr>\n",
              "      <th>59</th>\n",
              "      <td>Bomberman</td>\n",
              "      <td>NES</td>\n",
              "      <td>1985</td>\n",
              "      <td>Puzzle</td>\n",
              "      <td>Hudson Soft</td>\n",
              "      <td>0.18</td>\n",
              "      <td>0.00</td>\n",
              "      <td>0.85</td>\n",
              "      <td>0.00</td>\n",
              "      <td>1.03</td>\n",
              "    </tr>\n",
              "    <tr>\n",
              "      <th>76</th>\n",
              "      <td>Wrecking Crew</td>\n",
              "      <td>NES</td>\n",
              "      <td>1985</td>\n",
              "      <td>Platform</td>\n",
              "      <td>Nintendo</td>\n",
              "      <td>0.00</td>\n",
              "      <td>0.00</td>\n",
              "      <td>0.51</td>\n",
              "      <td>0.00</td>\n",
              "      <td>0.51</td>\n",
              "    </tr>\n",
              "    <tr>\n",
              "      <th>156</th>\n",
              "      <td>Gegege no Kitarou 2: Youkai Gundan no Chousen</td>\n",
              "      <td>NES</td>\n",
              "      <td>1987</td>\n",
              "      <td>Role-Playing</td>\n",
              "      <td>Namco Bandai Games</td>\n",
              "      <td>0.00</td>\n",
              "      <td>0.00</td>\n",
              "      <td>1.25</td>\n",
              "      <td>0.00</td>\n",
              "      <td>1.25</td>\n",
              "    </tr>\n",
              "    <tr>\n",
              "      <th>210</th>\n",
              "      <td>Mountain King</td>\n",
              "      <td>2600</td>\n",
              "      <td>1982</td>\n",
              "      <td>Action</td>\n",
              "      <td>CBS Electronics</td>\n",
              "      <td>0.29</td>\n",
              "      <td>0.02</td>\n",
              "      <td>0.00</td>\n",
              "      <td>0.00</td>\n",
              "      <td>0.31</td>\n",
              "    </tr>\n",
              "    <tr>\n",
              "      <th>...</th>\n",
              "      <td>...</td>\n",
              "      <td>...</td>\n",
              "      <td>...</td>\n",
              "      <td>...</td>\n",
              "      <td>...</td>\n",
              "      <td>...</td>\n",
              "      <td>...</td>\n",
              "      <td>...</td>\n",
              "      <td>...</td>\n",
              "      <td>...</td>\n",
              "    </tr>\n",
              "    <tr>\n",
              "      <th>16205</th>\n",
              "      <td>Frogs And Flies</td>\n",
              "      <td>2600</td>\n",
              "      <td>1981</td>\n",
              "      <td>Action</td>\n",
              "      <td>Mattel Interactive</td>\n",
              "      <td>0.33</td>\n",
              "      <td>0.02</td>\n",
              "      <td>0.00</td>\n",
              "      <td>0.00</td>\n",
              "      <td>0.35</td>\n",
              "    </tr>\n",
              "    <tr>\n",
              "      <th>16259</th>\n",
              "      <td>Polaris</td>\n",
              "      <td>2600</td>\n",
              "      <td>1982</td>\n",
              "      <td>Action</td>\n",
              "      <td>Tigervision</td>\n",
              "      <td>0.26</td>\n",
              "      <td>0.02</td>\n",
              "      <td>0.00</td>\n",
              "      <td>0.00</td>\n",
              "      <td>0.28</td>\n",
              "    </tr>\n",
              "    <tr>\n",
              "      <th>16305</th>\n",
              "      <td>Pitfall II: Lost Caverns</td>\n",
              "      <td>2600</td>\n",
              "      <td>1983</td>\n",
              "      <td>Platform</td>\n",
              "      <td>Activision</td>\n",
              "      <td>1.22</td>\n",
              "      <td>0.07</td>\n",
              "      <td>0.00</td>\n",
              "      <td>0.02</td>\n",
              "      <td>1.31</td>\n",
              "    </tr>\n",
              "    <tr>\n",
              "      <th>16335</th>\n",
              "      <td>Mega Man 2</td>\n",
              "      <td>NES</td>\n",
              "      <td>1988</td>\n",
              "      <td>Action</td>\n",
              "      <td>Capcom</td>\n",
              "      <td>0.93</td>\n",
              "      <td>0.15</td>\n",
              "      <td>0.42</td>\n",
              "      <td>0.01</td>\n",
              "      <td>1.51</td>\n",
              "    </tr>\n",
              "    <tr>\n",
              "      <th>16414</th>\n",
              "      <td>Custer's Revenge</td>\n",
              "      <td>2600</td>\n",
              "      <td>1981</td>\n",
              "      <td>Action</td>\n",
              "      <td>Mystique</td>\n",
              "      <td>0.76</td>\n",
              "      <td>0.05</td>\n",
              "      <td>0.00</td>\n",
              "      <td>0.01</td>\n",
              "      <td>0.82</td>\n",
              "    </tr>\n",
              "  </tbody>\n",
              "</table>\n",
              "<p>221 rows × 10 columns</p>\n",
              "</div>"
            ],
            "text/plain": [
              "                                                Name  ... Total_Sales\n",
              "37                                         Beamrider  ...        0.27\n",
              "59                                         Bomberman  ...        1.03\n",
              "76                                     Wrecking Crew  ...        0.51\n",
              "156    Gegege no Kitarou 2: Youkai Gundan no Chousen  ...        1.25\n",
              "210                                    Mountain King  ...        0.31\n",
              "...                                              ...  ...         ...\n",
              "16205                                Frogs And Flies  ...        0.35\n",
              "16259                                        Polaris  ...        0.28\n",
              "16305                       Pitfall II: Lost Caverns  ...        1.31\n",
              "16335                                     Mega Man 2  ...        1.51\n",
              "16414                               Custer's Revenge  ...        0.82\n",
              "\n",
              "[221 rows x 10 columns]"
            ]
          },
          "metadata": {},
          "execution_count": 17
        }
      ]
    },
    {
      "cell_type": "code",
      "metadata": {
        "colab": {
          "base_uri": "https://localhost:8080/",
          "height": 818
        },
        "id": "R5DheYivkmA1",
        "outputId": "c8790b57-8eb4-4b66-8699-2792b3bc22e8"
      },
      "source": [
        "fig, ax = plt.subplots(2, 2, figsize=(24, 12))\n",
        "plt.suptitle('1990년대 장르 트렌드', fontsize=20)\n",
        "sns.barplot(data=df_year_90, x='Genre', y='NA_Sales', ax=ax[0, 0])\n",
        "ax[0, 0].set_title('NA 장르 트렌드')\n",
        "sns.barplot(data=df_year_90, x='Genre', y='EU_Sales', ax=ax[0, 1])\n",
        "ax[0, 1].set_title('EU 장르 트렌드')\n",
        "sns.barplot(data=df_year_90, x='Genre', y='JP_Sales', ax=ax[1, 0])\n",
        "ax[1, 0].set_title('JP 장르 트렌드')\n",
        "sns.barplot(data=df_year_90, x='Genre', y='Other_Sales', ax=ax[1, 1])\n",
        "ax[1, 1].set_title('이외의 모든지역 장르 트렌드')"
      ],
      "execution_count": 18,
      "outputs": [
        {
          "output_type": "execute_result",
          "data": {
            "text/plain": [
              "Text(0.5, 1.0, '이외의 모든지역 장르 트렌드')"
            ]
          },
          "metadata": {},
          "execution_count": 18
        },
        {
          "output_type": "display_data",
          "data": {
            "image/png": "[encoded data removed]",
            "text/plain": [
              "<Figure size 1728x864 with 4 Axes>"
            ]
          },
          "metadata": {
            "needs_background": "light"
          }
        }
      ]
    },
    {
      "cell_type": "code",
      "metadata": {
        "id": "l3s-MuRhnHxw"
      },
      "source": [
        "plt.figure(figsize=(12, 8))\n",
        "sns.barplot(data=df_year_90, x='Genre', y='Total_Sales')\n",
        "plt.title('모든 지역의 장르 트렌드')"
      ],
      "execution_count": null,
      "outputs": []
    },
    {
      "cell_type": "markdown",
      "metadata": {
        "id": "naS5ocIPtb63"
      },
      "source": [
        " * 1990년도 이전에는 게임이라는 문화가 활성화가 잘 되어있지 않아보이고 플랫폼과 액션 두 가지 장르위주로만 보인다. \n",
        " * JP지역은 장르가 다양해 보이나 판매량이 매우 낮아서 보이는 다양성이 있다. 하지만 여러 장르가 있다는 점이 눈에 띈다."
      ]
    },
    {
      "cell_type": "markdown",
      "metadata": {
        "id": "PsVlSNXwwWzW"
      },
      "source": [
        "**2. 1990~2000년대**"
      ]
    },
    {
      "cell_type": "code",
      "metadata": {
        "colab": {
          "base_uri": "https://localhost:8080/",
          "height": 419
        },
        "id": "ggfSVaZQlYfG",
        "outputId": "33e6731c-52a9-449f-be24-2b7b446d9db2"
      },
      "source": [
        "df_year_2000 = df[(df['Year'] > 1990) & (df['Year'] <= 2000)]\n",
        "df_year_2000"
      ],
      "execution_count": 20,
      "outputs": [
        {
          "output_type": "execute_result",
          "data": {
            "text/html": [
              "<div>\n",
              "<style scoped>\n",
              "    .dataframe tbody tr th:only-of-type {\n",
              "        vertical-align: middle;\n",
              "    }\n",
              "\n",
              "    .dataframe tbody tr th {\n",
              "        vertical-align: top;\n",
              "    }\n",
              "\n",
              "    .dataframe thead th {\n",
              "        text-align: right;\n",
              "    }\n",
              "</style>\n",
              "<table border=\"1\" class=\"dataframe\">\n",
              "  <thead>\n",
              "    <tr style=\"text-align: right;\">\n",
              "      <th></th>\n",
              "      <th>Name</th>\n",
              "      <th>Platform</th>\n",
              "      <th>Year</th>\n",
              "      <th>Genre</th>\n",
              "      <th>Publisher</th>\n",
              "      <th>NA_Sales</th>\n",
              "      <th>EU_Sales</th>\n",
              "      <th>JP_Sales</th>\n",
              "      <th>Other_Sales</th>\n",
              "      <th>Total_Sales</th>\n",
              "    </tr>\n",
              "  </thead>\n",
              "  <tbody>\n",
              "    <tr>\n",
              "      <th>21</th>\n",
              "      <td>Ghost in the Shell</td>\n",
              "      <td>PS</td>\n",
              "      <td>1997</td>\n",
              "      <td>Simulation</td>\n",
              "      <td>Sony Computer Entertainment</td>\n",
              "      <td>0.06</td>\n",
              "      <td>0.04</td>\n",
              "      <td>0.00</td>\n",
              "      <td>0.01</td>\n",
              "      <td>0.11</td>\n",
              "    </tr>\n",
              "    <tr>\n",
              "      <th>26</th>\n",
              "      <td>Starwinder: The Ultimate Space Race</td>\n",
              "      <td>PS</td>\n",
              "      <td>1996</td>\n",
              "      <td>Racing</td>\n",
              "      <td>Mindscape</td>\n",
              "      <td>0.03</td>\n",
              "      <td>0.02</td>\n",
              "      <td>0.00</td>\n",
              "      <td>0.00</td>\n",
              "      <td>0.05</td>\n",
              "    </tr>\n",
              "    <tr>\n",
              "      <th>29</th>\n",
              "      <td>McGrath Vs. Pastrana Freestyle Motocross</td>\n",
              "      <td>PS</td>\n",
              "      <td>2000</td>\n",
              "      <td>Racing</td>\n",
              "      <td>Acclaim Entertainment</td>\n",
              "      <td>0.14</td>\n",
              "      <td>0.10</td>\n",
              "      <td>0.00</td>\n",
              "      <td>0.02</td>\n",
              "      <td>0.26</td>\n",
              "    </tr>\n",
              "    <tr>\n",
              "      <th>40</th>\n",
              "      <td>Vagrant Story</td>\n",
              "      <td>PS</td>\n",
              "      <td>2000</td>\n",
              "      <td>Role-Playing</td>\n",
              "      <td>Crave Entertainment</td>\n",
              "      <td>0.30</td>\n",
              "      <td>0.20</td>\n",
              "      <td>0.30</td>\n",
              "      <td>0.06</td>\n",
              "      <td>0.86</td>\n",
              "    </tr>\n",
              "    <tr>\n",
              "      <th>46</th>\n",
              "      <td>Nippon Daihyou Team no Kantoku ni Narou! Sekai...</td>\n",
              "      <td>SAT</td>\n",
              "      <td>1998</td>\n",
              "      <td>Sports</td>\n",
              "      <td>Sega</td>\n",
              "      <td>0.00</td>\n",
              "      <td>0.00</td>\n",
              "      <td>0.12</td>\n",
              "      <td>0.00</td>\n",
              "      <td>0.12</td>\n",
              "    </tr>\n",
              "    <tr>\n",
              "      <th>...</th>\n",
              "      <td>...</td>\n",
              "      <td>...</td>\n",
              "      <td>...</td>\n",
              "      <td>...</td>\n",
              "      <td>...</td>\n",
              "      <td>...</td>\n",
              "      <td>...</td>\n",
              "      <td>...</td>\n",
              "      <td>...</td>\n",
              "      <td>...</td>\n",
              "    </tr>\n",
              "    <tr>\n",
              "      <th>16520</th>\n",
              "      <td>Gex: Enter the Gecko</td>\n",
              "      <td>PS</td>\n",
              "      <td>1998</td>\n",
              "      <td>Platform</td>\n",
              "      <td>BMG Interactive Entertainment</td>\n",
              "      <td>320000.00</td>\n",
              "      <td>0.22</td>\n",
              "      <td>0.00</td>\n",
              "      <td>0.04</td>\n",
              "      <td>320000.26</td>\n",
              "    </tr>\n",
              "    <tr>\n",
              "      <th>16524</th>\n",
              "      <td>Shanghai: True Valor</td>\n",
              "      <td>PS</td>\n",
              "      <td>1998</td>\n",
              "      <td>Puzzle</td>\n",
              "      <td>Activision</td>\n",
              "      <td>0.01</td>\n",
              "      <td>0.01</td>\n",
              "      <td>0.00</td>\n",
              "      <td>0.00</td>\n",
              "      <td>0.02</td>\n",
              "    </tr>\n",
              "    <tr>\n",
              "      <th>16528</th>\n",
              "      <td>Jikkyou Powerful Pro Yakyuu 2000 Ketteiban</td>\n",
              "      <td>PS</td>\n",
              "      <td>2000</td>\n",
              "      <td>Sports</td>\n",
              "      <td>Konami Digital Entertainment</td>\n",
              "      <td>0.00</td>\n",
              "      <td>0.00</td>\n",
              "      <td>0.08</td>\n",
              "      <td>0.01</td>\n",
              "      <td>0.09</td>\n",
              "    </tr>\n",
              "    <tr>\n",
              "      <th>16531</th>\n",
              "      <td>Namco Soccer Prime Goal</td>\n",
              "      <td>PS</td>\n",
              "      <td>1995</td>\n",
              "      <td>Sports</td>\n",
              "      <td>Sony Computer Entertainment</td>\n",
              "      <td>0.00</td>\n",
              "      <td>0.00</td>\n",
              "      <td>0.12</td>\n",
              "      <td>0.01</td>\n",
              "      <td>0.13</td>\n",
              "    </tr>\n",
              "    <tr>\n",
              "      <th>16539</th>\n",
              "      <td>The King of Fighters '95</td>\n",
              "      <td>PS</td>\n",
              "      <td>1996</td>\n",
              "      <td>Fighting</td>\n",
              "      <td>Sony Computer Entertainment</td>\n",
              "      <td>0.00</td>\n",
              "      <td>0.00</td>\n",
              "      <td>0.16</td>\n",
              "      <td>0.01</td>\n",
              "      <td>0.17</td>\n",
              "    </tr>\n",
              "  </tbody>\n",
              "</table>\n",
              "<p>2102 rows × 10 columns</p>\n",
              "</div>"
            ],
            "text/plain": [
              "                                                    Name  ... Total_Sales\n",
              "21                                    Ghost in the Shell  ...        0.11\n",
              "26                   Starwinder: The Ultimate Space Race  ...        0.05\n",
              "29              McGrath Vs. Pastrana Freestyle Motocross  ...        0.26\n",
              "40                                         Vagrant Story  ...        0.86\n",
              "46     Nippon Daihyou Team no Kantoku ni Narou! Sekai...  ...        0.12\n",
              "...                                                  ...  ...         ...\n",
              "16520                               Gex: Enter the Gecko  ...   320000.26\n",
              "16524                               Shanghai: True Valor  ...        0.02\n",
              "16528         Jikkyou Powerful Pro Yakyuu 2000 Ketteiban  ...        0.09\n",
              "16531                            Namco Soccer Prime Goal  ...        0.13\n",
              "16539                           The King of Fighters '95  ...        0.17\n",
              "\n",
              "[2102 rows x 10 columns]"
            ]
          },
          "metadata": {},
          "execution_count": 20
        }
      ]
    },
    {
      "cell_type": "code",
      "metadata": {
        "colab": {
          "base_uri": "https://localhost:8080/",
          "height": 818
        },
        "id": "KNfrYYuMluCV",
        "outputId": "29471493-fe1b-49d3-add7-15ddc92b71db"
      },
      "source": [
        "fig, ax = plt.subplots(2, 2, figsize=(24, 12))\n",
        "plt.suptitle('1991~2000년 장르 트렌드', fontsize=20)\n",
        "sns.barplot(data=df_year_2000, x='Genre', y='NA_Sales', ax=ax[0, 0])\n",
        "ax[0, 0].set_title('NA 장르 트렌드')\n",
        "sns.barplot(data=df_year_2000, x='Genre', y='EU_Sales', ax=ax[0, 1])\n",
        "ax[0, 1].set_title('EU 장르 트렌드')\n",
        "sns.barplot(data=df_year_2000, x='Genre', y='JP_Sales', ax=ax[1, 0])\n",
        "ax[1, 0].set_title('JP 장르 트렌드')\n",
        "sns.barplot(data=df_year_2000, x='Genre', y='Other_Sales', ax=ax[1, 1])\n",
        "ax[1, 1].set_title('이외의 모든지역 장르 트렌드')"
      ],
      "execution_count": 21,
      "outputs": [
        {
          "output_type": "execute_result",
          "data": {
            "text/plain": [
              "Text(0.5, 1.0, '이외의 모든지역 장르 트렌드')"
            ]
          },
          "metadata": {},
          "execution_count": 21
        },
        {
          "output_type": "display_data",
          "data": {
            "image/png": "[encoded data removed]",
            "text/plain": [
              "<Figure size 1728x864 with 4 Axes>"
            ]
          },
          "metadata": {
            "needs_background": "light"
          }
        }
      ]
    },
    {
      "cell_type": "code",
      "metadata": {
        "id": "OM_dzWd7nNso"
      },
      "source": [
        "plt.figure(figsize=(12, 8))\n",
        "sns.barplot(data=df_year_2000, x='Genre', y='Total_Sales')\n",
        "plt.title('모든 지역의 장르 트렌드')"
      ],
      "execution_count": null,
      "outputs": []
    },
    {
      "cell_type": "markdown",
      "metadata": {
        "id": "_3SXgauXyRgS"
      },
      "source": [
        "**3. 2000~2010년대**"
      ]
    },
    {
      "cell_type": "code",
      "metadata": {
        "colab": {
          "base_uri": "https://localhost:8080/",
          "height": 419
        },
        "id": "b4LZ5lw0mOjc",
        "outputId": "700cffc2-e719-49f5-d267-bb8028b27a24"
      },
      "source": [
        "df_year_2010 = df[(df['Year'] > 2000) & (df['Year'] <= 2010)]\n",
        "df_year_2010"
      ],
      "execution_count": 23,
      "outputs": [
        {
          "output_type": "execute_result",
          "data": {
            "text/html": [
              "<div>\n",
              "<style scoped>\n",
              "    .dataframe tbody tr th:only-of-type {\n",
              "        vertical-align: middle;\n",
              "    }\n",
              "\n",
              "    .dataframe tbody tr th {\n",
              "        vertical-align: top;\n",
              "    }\n",
              "\n",
              "    .dataframe thead th {\n",
              "        text-align: right;\n",
              "    }\n",
              "</style>\n",
              "<table border=\"1\" class=\"dataframe\">\n",
              "  <thead>\n",
              "    <tr style=\"text-align: right;\">\n",
              "      <th></th>\n",
              "      <th>Name</th>\n",
              "      <th>Platform</th>\n",
              "      <th>Year</th>\n",
              "      <th>Genre</th>\n",
              "      <th>Publisher</th>\n",
              "      <th>NA_Sales</th>\n",
              "      <th>EU_Sales</th>\n",
              "      <th>JP_Sales</th>\n",
              "      <th>Other_Sales</th>\n",
              "      <th>Total_Sales</th>\n",
              "    </tr>\n",
              "  </thead>\n",
              "  <tbody>\n",
              "    <tr>\n",
              "      <th>0</th>\n",
              "      <td>Candace Kane's Candy Factory</td>\n",
              "      <td>DS</td>\n",
              "      <td>2008</td>\n",
              "      <td>Action</td>\n",
              "      <td>Destineer</td>\n",
              "      <td>0.04</td>\n",
              "      <td>0.00</td>\n",
              "      <td>0.00</td>\n",
              "      <td>0.00</td>\n",
              "      <td>0.04</td>\n",
              "    </tr>\n",
              "    <tr>\n",
              "      <th>1</th>\n",
              "      <td>The Munchables</td>\n",
              "      <td>Wii</td>\n",
              "      <td>2009</td>\n",
              "      <td>Action</td>\n",
              "      <td>Namco Bandai Games</td>\n",
              "      <td>0.17</td>\n",
              "      <td>0.00</td>\n",
              "      <td>0.00</td>\n",
              "      <td>0.01</td>\n",
              "      <td>0.18</td>\n",
              "    </tr>\n",
              "    <tr>\n",
              "      <th>2</th>\n",
              "      <td>Otome wa Oanesama Boku ni Koi Shiteru Portable</td>\n",
              "      <td>PSP</td>\n",
              "      <td>2010</td>\n",
              "      <td>Adventure</td>\n",
              "      <td>Alchemist</td>\n",
              "      <td>0.00</td>\n",
              "      <td>0.00</td>\n",
              "      <td>0.02</td>\n",
              "      <td>0.00</td>\n",
              "      <td>0.02</td>\n",
              "    </tr>\n",
              "    <tr>\n",
              "      <th>3</th>\n",
              "      <td>Deal or No Deal: Special Edition</td>\n",
              "      <td>DS</td>\n",
              "      <td>2010</td>\n",
              "      <td>Misc</td>\n",
              "      <td>Zoo Games</td>\n",
              "      <td>0.04</td>\n",
              "      <td>0.00</td>\n",
              "      <td>0.00</td>\n",
              "      <td>0.00</td>\n",
              "      <td>0.04</td>\n",
              "    </tr>\n",
              "    <tr>\n",
              "      <th>4</th>\n",
              "      <td>Ben 10 Ultimate Alien: Cosmic Destruction</td>\n",
              "      <td>PS3</td>\n",
              "      <td>2010</td>\n",
              "      <td>Platform</td>\n",
              "      <td>D3Publisher</td>\n",
              "      <td>0.12</td>\n",
              "      <td>0.09</td>\n",
              "      <td>0.00</td>\n",
              "      <td>0.04</td>\n",
              "      <td>0.25</td>\n",
              "    </tr>\n",
              "    <tr>\n",
              "      <th>...</th>\n",
              "      <td>...</td>\n",
              "      <td>...</td>\n",
              "      <td>...</td>\n",
              "      <td>...</td>\n",
              "      <td>...</td>\n",
              "      <td>...</td>\n",
              "      <td>...</td>\n",
              "      <td>...</td>\n",
              "      <td>...</td>\n",
              "      <td>...</td>\n",
              "    </tr>\n",
              "    <tr>\n",
              "      <th>16532</th>\n",
              "      <td>White Album: Tsuzurareru Fuyu no Omoide</td>\n",
              "      <td>PS3</td>\n",
              "      <td>2010</td>\n",
              "      <td>Adventure</td>\n",
              "      <td>Aqua Plus</td>\n",
              "      <td>0.00</td>\n",
              "      <td>0.00</td>\n",
              "      <td>0.05</td>\n",
              "      <td>0.00</td>\n",
              "      <td>0.05</td>\n",
              "    </tr>\n",
              "    <tr>\n",
              "      <th>16533</th>\n",
              "      <td>Madden NFL 2005</td>\n",
              "      <td>PS2</td>\n",
              "      <td>2004</td>\n",
              "      <td>Sports</td>\n",
              "      <td>Electronic Arts</td>\n",
              "      <td>4.18</td>\n",
              "      <td>0.26</td>\n",
              "      <td>0.01</td>\n",
              "      <td>80000.00</td>\n",
              "      <td>80004.45</td>\n",
              "    </tr>\n",
              "    <tr>\n",
              "      <th>16534</th>\n",
              "      <td>Minna no Chizu 2</td>\n",
              "      <td>PSP</td>\n",
              "      <td>2007</td>\n",
              "      <td>Misc</td>\n",
              "      <td>Zenrin</td>\n",
              "      <td>0.00</td>\n",
              "      <td>0.00</td>\n",
              "      <td>0.02</td>\n",
              "      <td>0.00</td>\n",
              "      <td>0.02</td>\n",
              "    </tr>\n",
              "    <tr>\n",
              "      <th>16535</th>\n",
              "      <td>Ice Age 2: The Meltdown</td>\n",
              "      <td>GC</td>\n",
              "      <td>2006</td>\n",
              "      <td>Platform</td>\n",
              "      <td>Vivendi Games</td>\n",
              "      <td>0.15</td>\n",
              "      <td>0.04</td>\n",
              "      <td>0.00</td>\n",
              "      <td>0.01</td>\n",
              "      <td>0.20</td>\n",
              "    </tr>\n",
              "    <tr>\n",
              "      <th>16536</th>\n",
              "      <td>Rainbow Islands: Revolution</td>\n",
              "      <td>PSP</td>\n",
              "      <td>2005</td>\n",
              "      <td>Action</td>\n",
              "      <td>Rising Star Games</td>\n",
              "      <td>0.01</td>\n",
              "      <td>0.00</td>\n",
              "      <td>0.00</td>\n",
              "      <td>0.00</td>\n",
              "      <td>0.01</td>\n",
              "    </tr>\n",
              "  </tbody>\n",
              "</table>\n",
              "<p>10340 rows × 10 columns</p>\n",
              "</div>"
            ],
            "text/plain": [
              "                                                 Name  ... Total_Sales\n",
              "0                        Candace Kane's Candy Factory  ...        0.04\n",
              "1                                      The Munchables  ...        0.18\n",
              "2      Otome wa Oanesama Boku ni Koi Shiteru Portable  ...        0.02\n",
              "3                    Deal or No Deal: Special Edition  ...        0.04\n",
              "4           Ben 10 Ultimate Alien: Cosmic Destruction  ...        0.25\n",
              "...                                               ...  ...         ...\n",
              "16532         White Album: Tsuzurareru Fuyu no Omoide  ...        0.05\n",
              "16533                                 Madden NFL 2005  ...    80004.45\n",
              "16534                                Minna no Chizu 2  ...        0.02\n",
              "16535                         Ice Age 2: The Meltdown  ...        0.20\n",
              "16536                     Rainbow Islands: Revolution  ...        0.01\n",
              "\n",
              "[10340 rows x 10 columns]"
            ]
          },
          "metadata": {},
          "execution_count": 23
        }
      ]
    },
    {
      "cell_type": "code",
      "metadata": {
        "colab": {
          "base_uri": "https://localhost:8080/",
          "height": 818
        },
        "id": "0lHhsVBKmS-Y",
        "outputId": "a0971481-766e-408d-fa4a-876abed00c20"
      },
      "source": [
        "fig, ax = plt.subplots(2, 2, figsize=(24, 12))\n",
        "plt.suptitle('2001~2010년 장르 트렌드', fontsize=20)\n",
        "sns.barplot(data=df_year_2010, x='Genre', y='NA_Sales', ax=ax[0, 0])\n",
        "ax[0, 0].set_title('NA 장르 트렌드')\n",
        "sns.barplot(data=df_year_2010, x='Genre', y='EU_Sales', ax=ax[0, 1])\n",
        "ax[0, 1].set_title('EU 장르 트렌드')\n",
        "sns.barplot(data=df_year_2010, x='Genre', y='JP_Sales', ax=ax[1, 0])\n",
        "ax[1, 0].set_title('JP 장르 트렌드')\n",
        "sns.barplot(data=df_year_2010, x='Genre', y='Other_Sales', ax=ax[1, 1])\n",
        "ax[1, 1].set_title('이외의 모든지역 장르 트렌드')"
      ],
      "execution_count": 24,
      "outputs": [
        {
          "output_type": "execute_result",
          "data": {
            "text/plain": [
              "Text(0.5, 1.0, '이외의 모든지역 장르 트렌드')"
            ]
          },
          "metadata": {},
          "execution_count": 24
        },
        {
          "output_type": "display_data",
          "data": {
            "image/png": "[encoded data removed]",
            "text/plain": [
              "<Figure size 1728x864 with 4 Axes>"
            ]
          },
          "metadata": {
            "needs_background": "light"
          }
        }
      ]
    },
    {
      "cell_type": "code",
      "metadata": {
        "id": "7QBSBJh2nVKH"
      },
      "source": [
        "plt.figure(figsize=(12, 8))\n",
        "sns.barplot(data=df_year_2010, x='Genre', y='Total_Sales')\n",
        "plt.title('모든 지역의 장르 트렌드')"
      ],
      "execution_count": null,
      "outputs": []
    },
    {
      "cell_type": "markdown",
      "metadata": {
        "id": "xFRzPiyayaWm"
      },
      "source": [
        "**4. 2010년~ 최신**"
      ]
    },
    {
      "cell_type": "code",
      "metadata": {
        "colab": {
          "base_uri": "https://localhost:8080/",
          "height": 419
        },
        "id": "H7JpUimvmbW9",
        "outputId": "6ae72616-ef8a-40b9-d226-a908e2528e97"
      },
      "source": [
        "df_year_2020 = df[(df['Year'] > 2010)]\n",
        "df_year_2020"
      ],
      "execution_count": 26,
      "outputs": [
        {
          "output_type": "execute_result",
          "data": {
            "text/html": [
              "<div>\n",
              "<style scoped>\n",
              "    .dataframe tbody tr th:only-of-type {\n",
              "        vertical-align: middle;\n",
              "    }\n",
              "\n",
              "    .dataframe tbody tr th {\n",
              "        vertical-align: top;\n",
              "    }\n",
              "\n",
              "    .dataframe thead th {\n",
              "        text-align: right;\n",
              "    }\n",
              "</style>\n",
              "<table border=\"1\" class=\"dataframe\">\n",
              "  <thead>\n",
              "    <tr style=\"text-align: right;\">\n",
              "      <th></th>\n",
              "      <th>Name</th>\n",
              "      <th>Platform</th>\n",
              "      <th>Year</th>\n",
              "      <th>Genre</th>\n",
              "      <th>Publisher</th>\n",
              "      <th>NA_Sales</th>\n",
              "      <th>EU_Sales</th>\n",
              "      <th>JP_Sales</th>\n",
              "      <th>Other_Sales</th>\n",
              "      <th>Total_Sales</th>\n",
              "    </tr>\n",
              "  </thead>\n",
              "  <tbody>\n",
              "    <tr>\n",
              "      <th>6</th>\n",
              "      <td>JASF: Jane's Advanced Strike Fighters</td>\n",
              "      <td>PC</td>\n",
              "      <td>2011</td>\n",
              "      <td>Simulation</td>\n",
              "      <td>Deep Silver</td>\n",
              "      <td>0.02</td>\n",
              "      <td>0.01</td>\n",
              "      <td>0.00</td>\n",
              "      <td>0.00</td>\n",
              "      <td>0.03</td>\n",
              "    </tr>\n",
              "    <tr>\n",
              "      <th>9</th>\n",
              "      <td>The Penguins of Madagascar: Dr. Blowhole Retur...</td>\n",
              "      <td>PS3</td>\n",
              "      <td>2011</td>\n",
              "      <td>Action</td>\n",
              "      <td>THQ</td>\n",
              "      <td>0.04</td>\n",
              "      <td>0.03</td>\n",
              "      <td>0.00</td>\n",
              "      <td>0.01</td>\n",
              "      <td>0.08</td>\n",
              "    </tr>\n",
              "    <tr>\n",
              "      <th>17</th>\n",
              "      <td>Hajime no Ippo: The Fighting! (2014)</td>\n",
              "      <td>PS3</td>\n",
              "      <td>2014</td>\n",
              "      <td>Sports</td>\n",
              "      <td>Namco Bandai Games</td>\n",
              "      <td>0.00</td>\n",
              "      <td>0.00</td>\n",
              "      <td>0.03</td>\n",
              "      <td>0.00</td>\n",
              "      <td>0.03</td>\n",
              "    </tr>\n",
              "    <tr>\n",
              "      <th>18</th>\n",
              "      <td>Grand Kingdom</td>\n",
              "      <td>PS4</td>\n",
              "      <td>2015</td>\n",
              "      <td>Role-Playing</td>\n",
              "      <td>Nippon Ichi Software</td>\n",
              "      <td>0.02</td>\n",
              "      <td>0.00</td>\n",
              "      <td>0.03</td>\n",
              "      <td>0.00</td>\n",
              "      <td>0.05</td>\n",
              "    </tr>\n",
              "    <tr>\n",
              "      <th>23</th>\n",
              "      <td>Don Bradman Cricket 14</td>\n",
              "      <td>X360</td>\n",
              "      <td>2014</td>\n",
              "      <td>Sports</td>\n",
              "      <td>Tru Blu Entertainment</td>\n",
              "      <td>0.00</td>\n",
              "      <td>0.01</td>\n",
              "      <td>0.00</td>\n",
              "      <td>0.00</td>\n",
              "      <td>0.01</td>\n",
              "    </tr>\n",
              "    <tr>\n",
              "      <th>...</th>\n",
              "      <td>...</td>\n",
              "      <td>...</td>\n",
              "      <td>...</td>\n",
              "      <td>...</td>\n",
              "      <td>...</td>\n",
              "      <td>...</td>\n",
              "      <td>...</td>\n",
              "      <td>...</td>\n",
              "      <td>...</td>\n",
              "      <td>...</td>\n",
              "    </tr>\n",
              "    <tr>\n",
              "      <th>16522</th>\n",
              "      <td>Captain Morgane and the Golden Turtle</td>\n",
              "      <td>DS</td>\n",
              "      <td>2012</td>\n",
              "      <td>Adventure</td>\n",
              "      <td>Reef Entertainment</td>\n",
              "      <td>0.00</td>\n",
              "      <td>0.03</td>\n",
              "      <td>0.00</td>\n",
              "      <td>0.00</td>\n",
              "      <td>0.03</td>\n",
              "    </tr>\n",
              "    <tr>\n",
              "      <th>16523</th>\n",
              "      <td>LEGO The Hobbit</td>\n",
              "      <td>XOne</td>\n",
              "      <td>2014</td>\n",
              "      <td>Action</td>\n",
              "      <td>Warner Bros. Interactive Entertainment</td>\n",
              "      <td>0.13</td>\n",
              "      <td>0.12</td>\n",
              "      <td>0.00</td>\n",
              "      <td>0.02</td>\n",
              "      <td>0.27</td>\n",
              "    </tr>\n",
              "    <tr>\n",
              "      <th>16530</th>\n",
              "      <td>MindJack</td>\n",
              "      <td>PS3</td>\n",
              "      <td>2011</td>\n",
              "      <td>Shooter</td>\n",
              "      <td>Square Enix</td>\n",
              "      <td>0.07</td>\n",
              "      <td>0.08</td>\n",
              "      <td>0.00</td>\n",
              "      <td>0.03</td>\n",
              "      <td>0.18</td>\n",
              "    </tr>\n",
              "    <tr>\n",
              "      <th>16537</th>\n",
              "      <td>NBA 2K16</td>\n",
              "      <td>PS3</td>\n",
              "      <td>2015</td>\n",
              "      <td>Sports</td>\n",
              "      <td>Take-Two Interactive</td>\n",
              "      <td>0.44</td>\n",
              "      <td>0.19</td>\n",
              "      <td>0.03</td>\n",
              "      <td>0.13</td>\n",
              "      <td>0.79</td>\n",
              "    </tr>\n",
              "    <tr>\n",
              "      <th>16538</th>\n",
              "      <td>Toukiden: The Age of Demons</td>\n",
              "      <td>PSV</td>\n",
              "      <td>2013</td>\n",
              "      <td>Action</td>\n",
              "      <td>Tecmo Koei</td>\n",
              "      <td>0.05</td>\n",
              "      <td>0.05</td>\n",
              "      <td>0.25</td>\n",
              "      <td>0.03</td>\n",
              "      <td>0.38</td>\n",
              "    </tr>\n",
              "  </tbody>\n",
              "</table>\n",
              "<p>3877 rows × 10 columns</p>\n",
              "</div>"
            ],
            "text/plain": [
              "                                                    Name  ... Total_Sales\n",
              "6                  JASF: Jane's Advanced Strike Fighters  ...        0.03\n",
              "9      The Penguins of Madagascar: Dr. Blowhole Retur...  ...        0.08\n",
              "17                  Hajime no Ippo: The Fighting! (2014)  ...        0.03\n",
              "18                                         Grand Kingdom  ...        0.05\n",
              "23                                Don Bradman Cricket 14  ...        0.01\n",
              "...                                                  ...  ...         ...\n",
              "16522              Captain Morgane and the Golden Turtle  ...        0.03\n",
              "16523                                    LEGO The Hobbit  ...        0.27\n",
              "16530                                           MindJack  ...        0.18\n",
              "16537                                           NBA 2K16  ...        0.79\n",
              "16538                        Toukiden: The Age of Demons  ...        0.38\n",
              "\n",
              "[3877 rows x 10 columns]"
            ]
          },
          "metadata": {},
          "execution_count": 26
        }
      ]
    },
    {
      "cell_type": "code",
      "metadata": {
        "colab": {
          "base_uri": "https://localhost:8080/",
          "height": 818
        },
        "id": "I9mYIHG7mkq2",
        "outputId": "6d7f349d-8c8f-494f-bf8b-63838fd46d7c"
      },
      "source": [
        "fig, ax = plt.subplots(2, 2, figsize=(24, 12))\n",
        "plt.suptitle('2011년~최신 장르 트렌드', fontsize=20)\n",
        "sns.barplot(data=df_year_2020, x='Genre', y='NA_Sales', ax=ax[0, 0])\n",
        "ax[0, 0].set_title('NA 장르 트렌드')\n",
        "sns.barplot(data=df_year_2020, x='Genre', y='EU_Sales', ax=ax[0, 1])\n",
        "ax[0, 1].set_title('EU 장르 트렌드')\n",
        "sns.barplot(data=df_year_2020, x='Genre', y='JP_Sales', ax=ax[1, 0])\n",
        "ax[1, 0].set_title('JP 장르 트렌드')\n",
        "sns.barplot(data=df_year_2020, x='Genre', y='Other_Sales', ax=ax[1, 1])\n",
        "ax[1, 1].set_title('이외의 모든지역 장르 트렌드')"
      ],
      "execution_count": 27,
      "outputs": [
        {
          "output_type": "execute_result",
          "data": {
            "text/plain": [
              "Text(0.5, 1.0, '이외의 모든지역 장르 트렌드')"
            ]
          },
          "metadata": {},
          "execution_count": 27
        },
        {
          "output_type": "display_data",
          "data": {
            "image/png": "[encoded data removed]",
            "text/plain": [
              "<Figure size 1728x864 with 4 Axes>"
            ]
          },
          "metadata": {
            "needs_background": "light"
          }
        }
      ]
    },
    {
      "cell_type": "code",
      "metadata": {
        "colab": {
          "base_uri": "https://localhost:8080/",
          "height": 818
        },
        "id": "Jq85xkNcQjpo",
        "outputId": "23268f85-c543-4ba5-fbbf-0c8c90e0fd13"
      },
      "source": [
        "fig, ax = plt.subplots(2, 2, figsize=(24, 12))\n",
        "plt.suptitle('연도별 장르 트렌드', fontsize=20)\n",
        "sns.barplot(data=df_year_90, x='Genre', y='Total_Sales', ax=ax[0, 0])\n",
        "ax[0, 0].set_title('1990년대 이전')\n",
        "sns.barplot(data=df_year_2000, x='Genre', y='Total_Sales', ax=ax[0, 1])\n",
        "ax[0, 1].set_title('1991 ~ 2000년')\n",
        "sns.barplot(data=df_year_2010, x='Genre', y='Total_Sales', ax=ax[1, 0])\n",
        "ax[1, 0].set_title('2001 ~ 2010년')\n",
        "sns.barplot(data=df_year_2020, x='Genre', y='Total_Sales', ax=ax[1, 1])\n",
        "ax[1, 1].set_title('2010 ~ 최신')"
      ],
      "execution_count": 42,
      "outputs": [
        {
          "output_type": "execute_result",
          "data": {
            "text/plain": [
              "Text(0.5, 1.0, '2010 ~ 최신')"
            ]
          },
          "metadata": {},
          "execution_count": 42
        },
        {
          "output_type": "display_data",
          "data": {
            "image/png": "[encoded data removed]",
            "text/plain": [
              "<Figure size 1728x864 with 4 Axes>"
            ]
          },
          "metadata": {
            "needs_background": "light"
          }
        }
      ]
    },
    {
      "cell_type": "code",
      "metadata": {
        "id": "36lggkfEnZaa"
      },
      "source": [
        "plt.figure(figsize=(12, 8))\n",
        "sns.barplot(data=df_year_2020, x='Genre', y='Total_Sales')\n",
        "plt.title('모든 지역의 장르 트렌드')"
      ],
      "execution_count": null,
      "outputs": []
    },
    {
      "cell_type": "markdown",
      "metadata": {
        "id": "Y5QlNkS8ogUD"
      },
      "source": [
        "* 결론: 시간이 지남에 따라 각기 다른 장르가 인기를 끌고 있으며 최근에는 **`Shooter`**와 **`Action`**, **`Platform`**이 가장 선호하는 장르로 판단된다.    \n",
        "특히, **`Platform`**은 예전부터 지금까지 변함없이 선호하고 있어 게임 설계 시 좋은 결과를 나타내 줄 것이다."
      ]
    },
    {
      "cell_type": "markdown",
      "metadata": {
        "id": "RjrBqj7Socd1"
      },
      "source": [
        "### 게임별 매출 순위"
      ]
    },
    {
      "cell_type": "code",
      "metadata": {
        "colab": {
          "base_uri": "https://localhost:8080/",
          "height": 669
        },
        "id": "nt2KWarSn17F",
        "outputId": "b6212d60-6541-4ec0-fdea-b477a919d7fb"
      },
      "source": [
        "# 오름차순으로 정렬\n",
        "rank_df = df.sort_values('Total_Sales')\n",
        "\n",
        "# 게임 매출 top20\n",
        "rank_df.sort_values('Total_Sales', ascending=False).head(20)"
      ],
      "execution_count": 29,
      "outputs": [
        {
          "output_type": "execute_result",
          "data": {
            "text/html": [
              "<div>\n",
              "<style scoped>\n",
              "    .dataframe tbody tr th:only-of-type {\n",
              "        vertical-align: middle;\n",
              "    }\n",
              "\n",
              "    .dataframe tbody tr th {\n",
              "        vertical-align: top;\n",
              "    }\n",
              "\n",
              "    .dataframe thead th {\n",
              "        text-align: right;\n",
              "    }\n",
              "</style>\n",
              "<table border=\"1\" class=\"dataframe\">\n",
              "  <thead>\n",
              "    <tr style=\"text-align: right;\">\n",
              "      <th></th>\n",
              "      <th>Name</th>\n",
              "      <th>Platform</th>\n",
              "      <th>Year</th>\n",
              "      <th>Genre</th>\n",
              "      <th>Publisher</th>\n",
              "      <th>NA_Sales</th>\n",
              "      <th>EU_Sales</th>\n",
              "      <th>JP_Sales</th>\n",
              "      <th>Other_Sales</th>\n",
              "      <th>Total_Sales</th>\n",
              "    </tr>\n",
              "  </thead>\n",
              "  <tbody>\n",
              "    <tr>\n",
              "      <th>10880</th>\n",
              "      <td>Grand Theft Auto V</td>\n",
              "      <td>X360</td>\n",
              "      <td>2013</td>\n",
              "      <td>Action</td>\n",
              "      <td>Take-Two Interactive</td>\n",
              "      <td>9630000.00</td>\n",
              "      <td>5.31</td>\n",
              "      <td>0.06</td>\n",
              "      <td>1.38</td>\n",
              "      <td>9630006.75</td>\n",
              "    </tr>\n",
              "    <tr>\n",
              "      <th>12559</th>\n",
              "      <td>Halo: Reach</td>\n",
              "      <td>X360</td>\n",
              "      <td>2010</td>\n",
              "      <td>Shooter</td>\n",
              "      <td>Microsoft Game Studios</td>\n",
              "      <td>7030000.00</td>\n",
              "      <td>1.98</td>\n",
              "      <td>0.08</td>\n",
              "      <td>0.78</td>\n",
              "      <td>7030002.84</td>\n",
              "    </tr>\n",
              "    <tr>\n",
              "      <th>576</th>\n",
              "      <td>Mario Kart 64</td>\n",
              "      <td>N64</td>\n",
              "      <td>1996</td>\n",
              "      <td>Racing</td>\n",
              "      <td>Nintendo</td>\n",
              "      <td>5550000.00</td>\n",
              "      <td>1.94</td>\n",
              "      <td>2.23</td>\n",
              "      <td>0.15</td>\n",
              "      <td>5550004.32</td>\n",
              "    </tr>\n",
              "    <tr>\n",
              "      <th>1965</th>\n",
              "      <td>Pokemon X/Pokemon Y</td>\n",
              "      <td>3DS</td>\n",
              "      <td>2013</td>\n",
              "      <td>Action</td>\n",
              "      <td>Nintendo</td>\n",
              "      <td>5170000.00</td>\n",
              "      <td>4.05</td>\n",
              "      <td>4.34</td>\n",
              "      <td>0.79</td>\n",
              "      <td>5170009.18</td>\n",
              "    </tr>\n",
              "    <tr>\n",
              "      <th>1958</th>\n",
              "      <td>The Legend of Zelda: Ocarina of Time</td>\n",
              "      <td>N64</td>\n",
              "      <td>1998</td>\n",
              "      <td>Action</td>\n",
              "      <td>Nintendo</td>\n",
              "      <td>4100000.00</td>\n",
              "      <td>1.89</td>\n",
              "      <td>1.45</td>\n",
              "      <td>0.16</td>\n",
              "      <td>4100003.50</td>\n",
              "    </tr>\n",
              "    <tr>\n",
              "      <th>1806</th>\n",
              "      <td>Pokemon FireRed/Pokemon LeafGreen</td>\n",
              "      <td>GBA</td>\n",
              "      <td>2004</td>\n",
              "      <td>Role-Playing</td>\n",
              "      <td>Nintendo</td>\n",
              "      <td>4.34</td>\n",
              "      <td>2.65</td>\n",
              "      <td>3150000.00</td>\n",
              "      <td>0.35</td>\n",
              "      <td>3150007.34</td>\n",
              "    </tr>\n",
              "    <tr>\n",
              "      <th>8507</th>\n",
              "      <td>Pokémon Yellow: Special Pikachu Edition</td>\n",
              "      <td>GB</td>\n",
              "      <td>1998</td>\n",
              "      <td>Role-Playing</td>\n",
              "      <td>Nintendo</td>\n",
              "      <td>5.89</td>\n",
              "      <td>5.04</td>\n",
              "      <td>3120000.00</td>\n",
              "      <td>0.59</td>\n",
              "      <td>3120011.52</td>\n",
              "    </tr>\n",
              "    <tr>\n",
              "      <th>9799</th>\n",
              "      <td>Super Mario Bros. 3</td>\n",
              "      <td>GBA</td>\n",
              "      <td>2003</td>\n",
              "      <td>Platform</td>\n",
              "      <td>Nintendo</td>\n",
              "      <td>2930000.00</td>\n",
              "      <td>1.25</td>\n",
              "      <td>0.83</td>\n",
              "      <td>0.20</td>\n",
              "      <td>2930002.28</td>\n",
              "    </tr>\n",
              "    <tr>\n",
              "      <th>7843</th>\n",
              "      <td>FIFA 14</td>\n",
              "      <td>X360</td>\n",
              "      <td>2013</td>\n",
              "      <td>Sports</td>\n",
              "      <td>Electronic Arts</td>\n",
              "      <td>0.92</td>\n",
              "      <td>2930000.00</td>\n",
              "      <td>0.01</td>\n",
              "      <td>0.46</td>\n",
              "      <td>2930001.39</td>\n",
              "    </tr>\n",
              "    <tr>\n",
              "      <th>6437</th>\n",
              "      <td>Super Mario 64</td>\n",
              "      <td>N64</td>\n",
              "      <td>1996</td>\n",
              "      <td>Platform</td>\n",
              "      <td>Nintendo</td>\n",
              "      <td>6.91</td>\n",
              "      <td>2850000.00</td>\n",
              "      <td>1.91</td>\n",
              "      <td>0.23</td>\n",
              "      <td>2850009.05</td>\n",
              "    </tr>\n",
              "    <tr>\n",
              "      <th>3577</th>\n",
              "      <td>Final Fantasy IX</td>\n",
              "      <td>PS</td>\n",
              "      <td>2000</td>\n",
              "      <td>Role-Playing</td>\n",
              "      <td>SquareSoft</td>\n",
              "      <td>1.62</td>\n",
              "      <td>0.77</td>\n",
              "      <td>2780000.00</td>\n",
              "      <td>0.14</td>\n",
              "      <td>2780002.53</td>\n",
              "    </tr>\n",
              "    <tr>\n",
              "      <th>7477</th>\n",
              "      <td>Tony Hawk's Pro Skater 3</td>\n",
              "      <td>PS2</td>\n",
              "      <td>2001</td>\n",
              "      <td>Sports</td>\n",
              "      <td>Activision</td>\n",
              "      <td>2660000.00</td>\n",
              "      <td>1.29</td>\n",
              "      <td>0.01</td>\n",
              "      <td>0.46</td>\n",
              "      <td>2660001.76</td>\n",
              "    </tr>\n",
              "    <tr>\n",
              "      <th>13886</th>\n",
              "      <td>Crash Team Racing</td>\n",
              "      <td>PS</td>\n",
              "      <td>1999</td>\n",
              "      <td>Racing</td>\n",
              "      <td>Sony Computer Entertainment</td>\n",
              "      <td>2570000.00</td>\n",
              "      <td>1.57</td>\n",
              "      <td>0.44</td>\n",
              "      <td>0.21</td>\n",
              "      <td>2570002.22</td>\n",
              "    </tr>\n",
              "    <tr>\n",
              "      <th>1626</th>\n",
              "      <td>Assassin's Creed III</td>\n",
              "      <td>PS3</td>\n",
              "      <td>2012</td>\n",
              "      <td>Action</td>\n",
              "      <td>Ubisoft</td>\n",
              "      <td>2.64</td>\n",
              "      <td>2560000.00</td>\n",
              "      <td>0.16</td>\n",
              "      <td>1.14</td>\n",
              "      <td>2560003.94</td>\n",
              "    </tr>\n",
              "    <tr>\n",
              "      <th>10124</th>\n",
              "      <td>Crash Bandicoot: The Wrath of Cortex</td>\n",
              "      <td>PS2</td>\n",
              "      <td>2001</td>\n",
              "      <td>Platform</td>\n",
              "      <td>Universal Interactive</td>\n",
              "      <td>2.07</td>\n",
              "      <td>2290000.00</td>\n",
              "      <td>0.24</td>\n",
              "      <td>0.82</td>\n",
              "      <td>2290003.13</td>\n",
              "    </tr>\n",
              "    <tr>\n",
              "      <th>7987</th>\n",
              "      <td>Battlefield 3</td>\n",
              "      <td>X360</td>\n",
              "      <td>2011</td>\n",
              "      <td>Shooter</td>\n",
              "      <td>Electronic Arts</td>\n",
              "      <td>4.46</td>\n",
              "      <td>2130000.00</td>\n",
              "      <td>0.06</td>\n",
              "      <td>0.69</td>\n",
              "      <td>2130005.21</td>\n",
              "    </tr>\n",
              "    <tr>\n",
              "      <th>11959</th>\n",
              "      <td>Guitar Hero II</td>\n",
              "      <td>X360</td>\n",
              "      <td>2007</td>\n",
              "      <td>Misc</td>\n",
              "      <td>Activision</td>\n",
              "      <td>2010000.00</td>\n",
              "      <td>0.02</td>\n",
              "      <td>0.00</td>\n",
              "      <td>0.17</td>\n",
              "      <td>2010000.19</td>\n",
              "    </tr>\n",
              "    <tr>\n",
              "      <th>9761</th>\n",
              "      <td>Call of Duty: Ghosts</td>\n",
              "      <td>PS4</td>\n",
              "      <td>2013</td>\n",
              "      <td>Shooter</td>\n",
              "      <td>Activision</td>\n",
              "      <td>1780000.00</td>\n",
              "      <td>1.42</td>\n",
              "      <td>0.05</td>\n",
              "      <td>0.38</td>\n",
              "      <td>1780001.85</td>\n",
              "    </tr>\n",
              "    <tr>\n",
              "      <th>4962</th>\n",
              "      <td>Cooking Mama 2: Dinner With Friends</td>\n",
              "      <td>DS</td>\n",
              "      <td>2007</td>\n",
              "      <td>Simulation</td>\n",
              "      <td>505 Games</td>\n",
              "      <td>1610000.00</td>\n",
              "      <td>1.50</td>\n",
              "      <td>0.10</td>\n",
              "      <td>0.39</td>\n",
              "      <td>1610001.99</td>\n",
              "    </tr>\n",
              "    <tr>\n",
              "      <th>6908</th>\n",
              "      <td>NBA 2K12</td>\n",
              "      <td>PS3</td>\n",
              "      <td>2011</td>\n",
              "      <td>Sports</td>\n",
              "      <td>Take-Two Interactive</td>\n",
              "      <td>1610000.00</td>\n",
              "      <td>0.27</td>\n",
              "      <td>0.05</td>\n",
              "      <td>0.18</td>\n",
              "      <td>1610000.50</td>\n",
              "    </tr>\n",
              "  </tbody>\n",
              "</table>\n",
              "</div>"
            ],
            "text/plain": [
              "                                          Name  ... Total_Sales\n",
              "10880                       Grand Theft Auto V  ...  9630006.75\n",
              "12559                              Halo: Reach  ...  7030002.84\n",
              "576                              Mario Kart 64  ...  5550004.32\n",
              "1965                       Pokemon X/Pokemon Y  ...  5170009.18\n",
              "1958      The Legend of Zelda: Ocarina of Time  ...  4100003.50\n",
              "1806         Pokemon FireRed/Pokemon LeafGreen  ...  3150007.34\n",
              "8507   Pokémon Yellow: Special Pikachu Edition  ...  3120011.52\n",
              "9799                       Super Mario Bros. 3  ...  2930002.28\n",
              "7843                                   FIFA 14  ...  2930001.39\n",
              "6437                            Super Mario 64  ...  2850009.05\n",
              "3577                          Final Fantasy IX  ...  2780002.53\n",
              "7477                  Tony Hawk's Pro Skater 3  ...  2660001.76\n",
              "13886                        Crash Team Racing  ...  2570002.22\n",
              "1626                      Assassin's Creed III  ...  2560003.94\n",
              "10124     Crash Bandicoot: The Wrath of Cortex  ...  2290003.13\n",
              "7987                             Battlefield 3  ...  2130005.21\n",
              "11959                           Guitar Hero II  ...  2010000.19\n",
              "9761                      Call of Duty: Ghosts  ...  1780001.85\n",
              "4962       Cooking Mama 2: Dinner With Friends  ...  1610001.99\n",
              "6908                                  NBA 2K12  ...  1610000.50\n",
              "\n",
              "[20 rows x 10 columns]"
            ]
          },
          "metadata": {},
          "execution_count": 29
        }
      ]
    },
    {
      "cell_type": "code",
      "metadata": {
        "colab": {
          "base_uri": "https://localhost:8080/",
          "height": 528
        },
        "id": "Z5Bw2XjPCJnw",
        "outputId": "931b5576-5b77-4026-e0e6-a7ff2ac77219"
      },
      "source": [
        "plt.figure(figsize=(12, 8))\n",
        "plt.barh(y=rank_df['Name'].tail(20), width=rank_df['Total_Sales'].tail(20))\n",
        "plt.title('매출 top20')"
      ],
      "execution_count": 30,
      "outputs": [
        {
          "output_type": "execute_result",
          "data": {
            "text/plain": [
              "Text(0.5, 1.0, '매출 top20')"
            ]
          },
          "metadata": {},
          "execution_count": 30
        },
        {
          "output_type": "display_data",
          "data": {
            "image/png": "[encoded data removed]",
            "text/plain": [
              "<Figure size 864x576 with 1 Axes>"
            ]
          },
          "metadata": {
            "needs_background": "light"
          }
        }
      ]
    },
    {
      "cell_type": "code",
      "metadata": {
        "id": "jqciJPabHNjY"
      },
      "source": [
        "# 액션 장르에 대한 데이터 생성\n",
        "# 오름차순으로 정렬\n",
        "df_act = df[df['Genre'] == 'Action'].sort_values('Total_Sales')\n",
        "\n",
        "# 액션 매출 top10\n",
        "df_act.sort_values('Total_Sales', ascending=False).head(10)"
      ],
      "execution_count": null,
      "outputs": []
    },
    {
      "cell_type": "code",
      "metadata": {
        "id": "Fj99wrJ8wbpV"
      },
      "source": [
        "# 플랫폼 장르에 대한 데이터 생성\n",
        "# 오름차순으로 정렬\n",
        "df_plat = df[df['Genre'] == 'Platform'].sort_values('Total_Sales')\n",
        "\n",
        "# 플랫폼 매출 top10\n",
        "df_plat.sort_values('Total_Sales', ascending=False).head(10)"
      ],
      "execution_count": null,
      "outputs": []
    },
    {
      "cell_type": "code",
      "metadata": {
        "id": "7d1XaDHBwd-J"
      },
      "source": [
        "# 슈팅 장르에 대한 데이터 생성\n",
        "# 오름차순으로 정렬\n",
        "df_shoot = df[df['Genre'] == 'Shooter'].sort_values('Total_Sales')\n",
        "\n",
        "# 슈팅 매출 top10\n",
        "df_shoot.sort_values('Total_Sales', ascending=False).head(10)"
      ],
      "execution_count": null,
      "outputs": []
    },
    {
      "cell_type": "code",
      "metadata": {
        "id": "kGRLMd3CwhKn"
      },
      "source": [
        "# 스포츠 장르에 대한 데이터 생성\n",
        "# 오름차순으로 정렬\n",
        "df_sport = df[df['Genre'] == 'Sports'].sort_values('Total_Sales')\n",
        "\n",
        "# 스포츠 매출 top10\n",
        "df_sport.sort_values('Total_Sales', ascending=False).head(10)"
      ],
      "execution_count": null,
      "outputs": []
    },
    {
      "cell_type": "code",
      "metadata": {
        "colab": {
          "base_uri": "https://localhost:8080/",
          "height": 963
        },
        "id": "yWsMB2L-zTvk",
        "outputId": "3ecfa9bd-afac-4081-fc3f-218685b4290e"
      },
      "source": [
        "fig, ax = plt.subplots(2, 2, figsize=(24, 16))\n",
        "\n",
        "ax[0, 0].barh(y=df_act['Name'].tail(10), width=df_act['Total_Sales'].tail(10))\n",
        "ax[0, 0].set_title('액션 매출 top10')\n",
        "\n",
        "ax[0, 1].barh(y=df_plat['Name'].tail(10), width=df_plat['Total_Sales'].tail(10))\n",
        "ax[0, 1].set_title('플랫폼 매출 top10')\n",
        "\n",
        "ax[1, 0].barh(y=df_shoot['Name'].tail(10), width=df_shoot['Total_Sales'].tail(10))\n",
        "ax[1, 0].set_title('슈팅 매출 top10')\n",
        "\n",
        "ax[1, 1].barh(y=df_sport['Name'].tail(10), width=df_sport['Total_Sales'].tail(10))\n",
        "ax[1, 1].set_title('스포츠 매출 top10')"
      ],
      "execution_count": 35,
      "outputs": [
        {
          "output_type": "execute_result",
          "data": {
            "text/plain": [
              "Text(0.5, 1.0, '스포츠 매출 top10')"
            ]
          },
          "metadata": {},
          "execution_count": 35
        },
        {
          "output_type": "display_data",
          "data": {
            "image/png": "[encoded data removed]",
            "text/plain": [
              "<Figure size 1728x1152 with 4 Axes>"
            ]
          },
          "metadata": {
            "needs_background": "light"
          }
        }
      ]
    },
    {
      "cell_type": "markdown",
      "metadata": {
        "id": "kAEQRJkrNSw7"
      },
      "source": [
        "### 연도별 게임이 지원되는 플랫폼 현황"
      ]
    },
    {
      "cell_type": "code",
      "metadata": {
        "colab": {
          "base_uri": "https://localhost:8080/",
          "height": 818
        },
        "id": "3MLNZoInoZ6A",
        "outputId": "5664d8bf-c70f-461a-bce6-238ce7ef91db"
      },
      "source": [
        "fig, ax = plt.subplots(2, 2, figsize=(24, 12))\n",
        "plt.suptitle('연도별 게임 플랫폼 지원 현황', fontsize=20)\n",
        "sns.countplot(x=\"Platform\", data=df_year_90, ax=ax[0, 0])\n",
        "ax[0, 0].set_title('~1990년도 플랫폼별 지원되는 게임 수')\n",
        "sns.countplot(x=\"Platform\", data=df_year_2000, ax=ax[0, 1])\n",
        "ax[0, 1].set_title('1991~2000년도 플랫폼별 지원되는 게임 수')\n",
        "sns.countplot(x=\"Platform\", data=df_year_2010, ax=ax[1, 0])\n",
        "ax[1, 0].set_title('2001~2010년도 플랫폼별 지원되는 게임 수')\n",
        "sns.countplot(x=\"Platform\", data=df_year_2020, ax=ax[1, 1])\n",
        "ax[1, 1].set_title('2010~ 최신 플랫폼별 지원되는 게임 수')"
      ],
      "execution_count": 44,
      "outputs": [
        {
          "output_type": "execute_result",
          "data": {
            "text/plain": [
              "Text(0.5, 1.0, '2010~ 최신 플랫폼별 지원되는 게임 수')"
            ]
          },
          "metadata": {},
          "execution_count": 44
        },
        {
          "output_type": "display_data",
          "data": {
            "image/png": "[encoded data removed]",
            "text/plain": [
              "<Figure size 1728x864 with 4 Axes>"
            ]
          },
          "metadata": {
            "needs_background": "light"
          }
        }
      ]
    },
    {
      "cell_type": "code",
      "metadata": {
        "id": "dDWO4RnZW3gE"
      },
      "source": [
        ""
      ],
      "execution_count": null,
      "outputs": []
    }
  ]
}